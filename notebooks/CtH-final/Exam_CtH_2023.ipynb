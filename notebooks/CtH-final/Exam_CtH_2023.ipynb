{
 "cells": [
  {
   "attachments": {},
   "cell_type": "markdown",
   "metadata": {
    "id": "_ff2UYOrk_bd"
   },
   "source": [
    "# Individual Exam CtH | Analysing \"Brand Twitter\"\n",
    "\n",
    "### Author: *Name* Leonards Leimanis"
   ]
  },
  {
   "cell_type": "markdown",
   "metadata": {
    "id": "rlBTVZLP_9cX"
   },
   "source": [
    "Be sure to check the assignment description on Canvas once more.\n",
    "\n",
    "Handing in the notebook should be done in a `zip` file, together with any files you create. We request you to name the exam submission as \"exam_name_studentname.zip\" with your corresponding name. The data is presented in the `data` folder. Also, include the files containing the data when handing in your exam, as this helps us to check your code when re-running it. To check if we can run your notebook from top to bottom without receiving errors, try to clear all the output of the cells and rerun everything. This can be done automatically by clicking on `Runtime --> Restart and run all`.\n",
    "\n",
    "Good luck!"
   ]
  },
  {
   "cell_type": "markdown",
   "metadata": {
    "id": "U0z7yBxIPWJc"
   },
   "source": [
    "# Introduction\n",
    "\n",
    "For this assignment we will investigate the phenomenon of \"*Brand Twitter*\". While corporate communication is traditionally rather bland, in recent years a trend has emerged of brands communicating on social media in a far less formal way. Social media teams of certain brands have started use memes, edgy humour and an informal and personal style of writing, sometimes also engaging with other brand accounts in a way that is similar to how many Twitter users tweet and interact with each other. This phenomenon of corporate personhood has been called *Brand Twitter*.\n",
    "\n",
    "In 2019, Vulture published a history of the phenomenon, just in case you find it interesting: https://www.vulture.com/2019/06/brand-twitter-jokes-history.html\n",
    "\n",
    "For this assignment we will consider a group of brand accounts that are often considered part of *Brand Twitter*:\n",
    "\n",
    "    * @Wendys - Wendy's\n",
    "    * @PrimeVideo - Amazon Prime Video\n",
    "    * @MerriamWebster - Merriam Webster\n",
    "    * @BurgerKing - Burger King\n",
    "    * @Netflix - Netflix US\n",
    "    * @McDonalds - McDonald's\n",
    "    * @DennysDiner - Denny's Diner\n",
    "\n",
    "We thought it would be interesting to analyse the tweets of these brand accounts to learn more about this novel style of corporate communication and the ways corporations might be perceived as relatable people on social media."
   ]
  },
  {
   "cell_type": "markdown",
   "metadata": {
    "id": "nI8_S13FGYWN"
   },
   "source": [
    "# Data\n",
    "\n",
    "The data can be found within the file `brand_tweets.csv`. This file contains twitter data on tweets (every row is one tweet) by these brands.\n",
    "\n",
    "FYI: This data was acquired from Twitter using their API if you're interested, following the method from the optional Notebook 7.\n",
    "\n",
    "*Please note: this dataset might contain content which could be considered as offensive. It is real unfiltered data directly from Twitter.*"
   ]
  },
  {
   "cell_type": "markdown",
   "metadata": {
    "id": "9vwI8QmUKJYk"
   },
   "source": [
    "# Tasks\n",
    "\n",
    "We would like to look through some recent tweets of *Brand Twitter*, and be able to understand certain characteristics of their tweets. As these Twitter accounts represent major brands, one particularly interesting aspect of this dataset is the difference between regular tweets and tweets that are replies to other tweets, which could be replies to customers or other brands.\n",
    "\n",
    "Make your code and results as pretty as possible, and feel free to use tabs and enumeration when printing text and formatting for the visualisations. \n",
    "\n",
    "This assignment is about getting familiar with Pandas' methods — we suggest going through the lecture and seminar notebooks on Pandas again. You can of course use any course material in this assignment!\n",
    "\n",
    "You are not limited to the structure of the cells below with ` # Your code here` only. Organise your code the way you think is most readible and appropriate.\n",
    "\n",
    "If you do not fully manage to solve a question in the requested way, feel free to solve it in a different way to be able to proceed with later questions - you'll probably still get some points."
   ]
  },
  {
   "cell_type": "markdown",
   "metadata": {
    "id": "pS58nZzcKA44"
   },
   "source": [
    "### Question 1: Pre-processing\n",
    "* Add a column with a normalised version of the 'text' column. Use an appropriate tokenizer for this type of data in your normalization function. As the 'text' column contains strings, things will be easier if your normalized text column will also contain strings.\n",
    "\n",
    "Continue to work with this normalized column in the next tasks. You're of course free to add more columns if you think you need them. "
   ]
  },
  {
   "cell_type": "code",
   "execution_count": 37,
   "metadata": {
    "id": "DVwFEgSAPN5P"
   },
   "outputs": [
    {
     "ename": "TypeError",
     "evalue": "'method' object is not subscriptable",
     "output_type": "error",
     "traceback": [
      "\u001b[1;31m---------------------------------------------------------------------------\u001b[0m",
      "\u001b[1;31mTypeError\u001b[0m                                 Traceback (most recent call last)",
      "Cell \u001b[1;32mIn[37], line 16\u001b[0m\n\u001b[0;32m     11\u001b[0m \u001b[39mdef\u001b[39;00m \u001b[39mtweet_normalizer\u001b[39m(row_to_normalize):\n\u001b[0;32m     12\u001b[0m     tokenizer\u001b[39m.\u001b[39mtokenize(row_to_normalize)\n\u001b[1;32m---> 16\u001b[0m df_tweets\u001b[39m.\u001b[39minsert(loc\u001b[39m=\u001b[39m\u001b[39m10\u001b[39m, column\u001b[39m=\u001b[39m\u001b[39m'\u001b[39m\u001b[39mnormalized_tweets\u001b[39m\u001b[39m'\u001b[39m, value\u001b[39m=\u001b[39m tokenizer\u001b[39m.\u001b[39;49mtokenize[\u001b[39m'\u001b[39;49m\u001b[39mtext\u001b[39;49m\u001b[39m'\u001b[39;49m])\n\u001b[0;32m     18\u001b[0m \u001b[39mprint\u001b[39m(df_tweets)\n",
      "\u001b[1;31mTypeError\u001b[0m: 'method' object is not subscriptable"
     ]
    }
   ],
   "source": [
    "import csv\n",
    "import pandas as pd\n",
    "from nltk.tokenize import TweetTokenizer\n",
    "\n",
    "csv_file = \"C:\\\\Users\\\\leona\\\\Documents\\\\Coding the humanities\\\\notebooks\\\\CtH-final\\\\data\\\\brand_tweets.csv\"\n",
    "\n",
    "df_tweets = pd.read_csv(csv_file, encoding=\"utf-8\")\n",
    "\n",
    "tokenizer = TweetTokenizer(preserve_case=True, reduce_len=False, strip_handles=False)\n",
    "\n",
    "def tweet_normalizer(row_to_normalize):\n",
    "    tokenizer.tokenize(row_to_normalize)\n",
    "    \n",
    "\n",
    "\n",
    "df_tweets.insert(loc=10, column='normalized_tweets', value= tokenizer.tokenize['text'])\n",
    "    \n",
    "print(df_tweets)"
   ]
  },
  {
   "cell_type": "markdown",
   "metadata": {
    "id": "c05kDUHdOCkV"
   },
   "source": [
    "### Question 2: Description / statistics\n",
    "\n",
    "Provide information on: \n",
    "\n",
    "1. Number of tweets (per brand and in total)\n",
    "2. How many of those tweets are replies (per brand and in total)\n",
    "3. Most liked tweet (per brand and in total)\n",
    "4. Most frequent hashtags (per brand and in total)\n",
    "\n",
    "You can present the answers in this notebook. If you prefer, you may also write your results to a separate text file (optional)."
   ]
  },
  {
   "cell_type": "code",
   "execution_count": null,
   "metadata": {
    "id": "_xdsHrGqOBP5"
   },
   "outputs": [],
   "source": [
    "#Your code here"
   ]
  },
  {
   "cell_type": "markdown",
   "metadata": {
    "tags": []
   },
   "source": [
    "### Question 3: Analysis - Corporate personhood\n",
    "\n",
    "To observe to what extent the brands encourage corporate personhood, it would be interesting to see what pronouns the brands use to refer to themselves: \"we\" or \"I\". Let us define a \"First Person Pronoun Ratio\" - the total number of times that the word \"I\" is used by a brand / the total number of times the words \"I\" or \"we\" are used by a brand. This should give us a value between 0 and 1, and a higher value indicates that the brand used the word \"I\" relatively more often compared to the word \"we\". If we multiply this value by 100, it becomes a percentage.\n",
    "\n",
    "1. For all of the 7 brands, compute their First Person Pronoun Ratio (or percentage) as defined here.\n",
    "2. Choose the brand with the highest First Person Pronoun Ratio. For this brand, compute the First Person Pronoun Ratio separately for tweets that are replies and tweets that are not replies.\n",
    "\n",
    "Briefly interpret the result (as a text block)."
   ]
  },
  {
   "cell_type": "code",
   "execution_count": null,
   "metadata": {},
   "outputs": [],
   "source": [
    "#Your code here"
   ]
  },
  {
   "cell_type": "markdown",
   "metadata": {
    "id": "yy4BDoPAOcp9"
   },
   "source": [
    "### Question 4: Analysis - Brand interaction\n",
    "\n",
    "Among the tweets that are replies, do the *Brand Twitter* brands reply to each other? (in a tweet this is done by writing @username at the beginning of the tweet)\n",
    "\n",
    "1. Print three tweets from the dataframe in which a brand mentions one of the other brands.\n",
    "2. For all of the 7 brands, find out how often they mention each of the other brands in replies. Present the result as a DataFrame.\n",
    " \n",
    "Briefly interpret the result (as a text block)."
   ]
  },
  {
   "cell_type": "code",
   "execution_count": null,
   "metadata": {
    "id": "7fraxfplOo4i"
   },
   "outputs": [],
   "source": [
    "#Your code here"
   ]
  },
  {
   "cell_type": "markdown",
   "metadata": {
    "id": "wRYM_Nr2Osxw"
   },
   "source": [
    "### Question 5: Visualization\n",
    "\n",
    "1. Plot the number of tweets in the whole dataset per week. \n",
    "    * Interpret the graph. Can you explain the overall pattern and/or some of the fluctuations that are visible? Feel free to also make reference to the numbers you computed for Question 2 in your explanation.\n",
    "    * (If needed, restrict the dataframe to an active twitter timeframe)\n",
    "\n",
    "2. Choose one of the seven brands and plot its (Twitter) popularity over time (choose the time unit and range of your choice) by:\n",
    "    * Number of retweets\n",
    "    * Number of likes\n",
    "  \n",
    "  You can either try to plot these two metrics (retweets/likes) in the same figure, or create multiple figures.\n",
    "  \n"
   ]
  },
  {
   "cell_type": "code",
   "execution_count": null,
   "metadata": {
    "id": "wdQOJkcVOb7b"
   },
   "outputs": [],
   "source": [
    "#Your code here"
   ]
  }
 ],
 "metadata": {
  "colab": {
   "collapsed_sections": [],
   "name": "Exam_CtH_2022.ipynb",
   "provenance": []
  },
  "kernelspec": {
   "display_name": "Python 3 (ipykernel)",
   "language": "python",
   "name": "python3"
  },
  "language_info": {
   "codemirror_mode": {
    "name": "ipython",
    "version": 3
   },
   "file_extension": ".py",
   "mimetype": "text/x-python",
   "name": "python",
   "nbconvert_exporter": "python",
   "pygments_lexer": "ipython3",
   "version": "3.10.2"
  }
 },
 "nbformat": 4,
 "nbformat_minor": 4
}
