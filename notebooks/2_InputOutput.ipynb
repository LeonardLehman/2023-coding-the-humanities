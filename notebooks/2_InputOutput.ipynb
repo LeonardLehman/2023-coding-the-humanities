{
  "cells": [
    {
      "cell_type": "markdown",
      "metadata": {
        "id": "PgEPTsqKbpRd"
      },
      "source": [
        "# Python basics 2 + Input / Output\n",
        "\n",
        "This notebook contains more basics of Python. Use it as a reference whenever needed."
      ]
    },
    {
      "cell_type": "markdown",
      "metadata": {
        "id": "bPXO4Q-5bpRf"
      },
      "source": [
        "## Python Syntax"
      ]
    },
    {
      "cell_type": "markdown",
      "metadata": {
        "id": "TwSFTEKlbpRg"
      },
      "source": [
        "### The Significant Whitespace\n",
        "\n",
        "Most program languages use characters (e.g. `{...}`) or keywords (e.g. `begin ... end`) to delimitate blocks of codes. But, when writing Python code, you rely on **indentation** to structure your programs. \n",
        "\n",
        "All programming languages allow you to indent (and you should!), but in Python you **have to.** Otherwise, you'll receive an IndentationError and your code won't work!"
      ]
    },
    {
      "cell_type": "markdown",
      "metadata": {
        "id": "P841qNdsbpRg"
      },
      "source": [
        "#### How Indentation Works\n",
        "\n",
        "- All statements with the same distance from the left border belong of the same block of code. This is related to the _scope_ of your code. \n",
        "- Sub-blocks are more indented, while the block ends at the line less indented.\n",
        "- It is recommended to use **4 spaces** per indentation level. However, a tab character (`\\t`) can also be used. Often, you have a setting in your favorite editor that automatically translates tabs to 4 spaces. \n",
        "- When a statement is too long, it's good practice to avoid lines of code longer than 79 characters, it can be split with `\"\\\"` at the end of the line.\n",
        "- **Never mix** spaces and tabs in a single source file. This will raise an error when you try to execute the code, but is also very hard to spot by hand. To help you, you can set your text editor to display whitespace characters.\n"
      ]
    },
    {
      "cell_type": "markdown",
      "metadata": {
        "id": "BIWCuPkqbpRg"
      },
      "source": [
        "#### Recommended Reading on Python syntax and style\n",
        "[PEP 8 - Style Guide for Python Code](https://www.python.org/dev/peps/pep-0008/)"
      ]
    },
    {
      "cell_type": "markdown",
      "metadata": {
        "id": "t69K9sxSbpRh"
      },
      "source": [
        "##### The code is way more readable:\n",
        "\n",
        "\n",
        "```python\n",
        "# input() reads from standard input (e.g. keyboard)\n",
        "n_string = input('Enter a number, please:')\n",
        "\n",
        "if not n_string.isdigit():\n",
        "    print(\"This isn't a number...\")\n",
        "else:\n",
        "    n = int(n_string)\n",
        "    if n == 0:\n",
        "        print(\"Zero? Why zero?\")\n",
        "    elif n % 2 == 0:\n",
        "        print(\"Even\")\n",
        "    else:\n",
        "        print(\"Odd\")\n",
        "```"
      ]
    },
    {
      "cell_type": "markdown",
      "metadata": {
        "id": "DvV_db_dbpRh"
      },
      "source": [
        "## Conditional statements, loops and functions\n",
        "\n",
        "Up till now, you've used the Python language and syntax as a fancy calculator. Most likely you felt that you needed additional elements to prevent replication in your code, or saw that you needed a conditional statement that only executed your code when a particular variable/statement was True/False. \n",
        "\n",
        "Below are the building blocks for writing such code blocks introduced. Let's take a look at conditional statements first."
      ]
    },
    {
      "cell_type": "markdown",
      "metadata": {
        "id": "2nHh7Xi_bpRh"
      },
      "source": [
        "## Conditional Statements\n",
        "\n",
        "A lot of programming has to do with executing a block of code only if a certain condition is verified. \n",
        "\n",
        "In Python, the `if-then-else` construct has the form:\n",
        "\n",
        "```python\n",
        "if condition1:\n",
        "    # statements\n",
        "elif condition2:\n",
        "    # statements\n",
        "elif condition3:\n",
        "    # statements\n",
        "else:\n",
        "    # statements\n",
        "```\n",
        "\n",
        "Note that the `elif` and `else` clauses are optional. A conditional statement can contain a single `if` block, and nothing else.\n",
        "\n",
        "All methods from the previous notebook that return a boolean (True/False) can be used after an `if` statement. You can of course combine these with the `and` and `or` operators. "
      ]
    },
    {
      "cell_type": "markdown",
      "metadata": {
        "id": "GlKbVnsqbpRi"
      },
      "source": [
        "If you inspect the function below, do you think you can change the `elif` statement into an `if` statement? Would this alter the code? What is the difference? Try playing with the code by adding some `Pear` to the grocerylist. \n",
        "\n",
        "Can you describe what the code is doing?"
      ]
    },
    {
      "cell_type": "code",
      "execution_count": null,
      "metadata": {
        "id": "vMjIuBNzbpRj",
        "colab": {
          "base_uri": "https://localhost:8080/"
        },
        "outputId": "0f8d9269-9ad9-4975-f023-fbcab0dd10cb"
      },
      "outputs": [
        {
          "output_type": "stream",
          "name": "stdout",
          "text": [
            "Already on the list!\n"
          ]
        }
      ],
      "source": [
        "fruit = [\"Apple\", \"Pear\", \"Banana\", \"Orange\"]\n",
        "\n",
        "item = \"Pear\"\n",
        "\n",
        "# To remind you that you can check for elements in a list\n",
        "if item in fruit:\n",
        "    print(\"Already on the list!\")\n",
        "    \n",
        "    if fruit.count(item) >= 3:\n",
        "        print(\"It's on the list three times or more!\")\n",
        "    elif fruit.count(item) > 1:\n",
        "        print(\"It's on there twice!\")\n",
        "    # You don't have to finish with an 'else'\n",
        "    \n",
        "else:\n",
        "    print(\"Not on the list yet, adding it!\")\n",
        "    fruit.append(item)\n"
      ]
    },
    {
      "cell_type": "markdown",
      "metadata": {
        "id": "9Df6_wp_bpRk"
      },
      "source": [
        "### Quiz"
      ]
    },
    {
      "cell_type": "markdown",
      "metadata": {
        "id": "l4n6gJ4rbpRk"
      },
      "source": [
        "Finish the following code block. The `intput()` function askes the user in the Python interpreter to input some text. Implement the following:\n",
        "\n",
        "    * Print a line with a friendly message, telling the user what their input is\n",
        "    * Check if the input is a digit\n",
        "    * Check if the input meets the > 0 condition \n",
        "    * If the input is a digit and meets the condition, tell the user if it is even or odd\n",
        "    * Otherwise, print another informative message \n",
        "\n",
        "\n"
      ]
    },
    {
      "cell_type": "code",
      "execution_count": null,
      "metadata": {
        "id": "RdBF-AX_bpRk"
      },
      "outputs": [],
      "source": [
        "user_digit = input(\"A number > 0 please: \")\n",
        "# Your code here\n"
      ]
    },
    {
      "cell_type": "markdown",
      "metadata": {
        "id": "7o3PEJVGbpRl"
      },
      "source": [
        "## Flow control / Looping\n",
        "\n",
        "### For Loops\n",
        "\n",
        "Programming is of little use if we cannot repeat an instruction for an intended number of times. In the previous examples, you had to change the code and re-run in if you wanted to play with, for instance, the value of the `item` variable. \n",
        "\n",
        "The `for` statement allows us to define **iterations** (i.e.taking items from an iterable) by following this template:\n",
        "\n",
        "```python\n",
        "for variable in sequence:\n",
        "\t# statements\n",
        "    print(variable)\n",
        "```\n",
        "\n",
        "Little known fact is that the for-loop also has an `else` clause. It's also rarely used:\n",
        "\n",
        "```python\n",
        "for number in [0, 1, 2, 3, 4, 5]:\n",
        "\t# statement\n",
        "    print(number)\n",
        "    \n",
        "    if number > 4:\n",
        "        break\n",
        "        \n",
        "else:\n",
        "\t# statement\n",
        "    print(\"All done!\")\n",
        "```\n",
        "\n",
        "The code in the optional `else` clause is executed if and only if the loop terminates successfully (i.e. without a **`break`**). "
      ]
    },
    {
      "cell_type": "code",
      "execution_count": null,
      "metadata": {
        "id": "hZTL2vkLbpRl"
      },
      "outputs": [],
      "source": [
        "# Let's iterate over our list of fruit\n",
        "\n",
        "for item in fruit:\n",
        "    print(item)"
      ]
    },
    {
      "cell_type": "code",
      "execution_count": null,
      "metadata": {
        "id": "R1B5_xABbpRl"
      },
      "outputs": [],
      "source": [
        "# Or from another function we recall\n",
        "\n",
        "text = \"Lorem ipsum dolor sit amet, consectetur adipiscing elit\"\n",
        "words = text.split()\n",
        "\n",
        "for word in words:\n",
        "    print(word.title())"
      ]
    },
    {
      "cell_type": "code",
      "execution_count": null,
      "metadata": {
        "id": "P2K61iJibpRm"
      },
      "outputs": [],
      "source": [
        "# You can also nest for loops:\n",
        "text = \"Lorem ipsum dolor sit amet, consectetur adipiscing elit\"\n",
        "words = text.split()\n",
        "\n",
        "for word in words:\n",
        "    for character in word:\n",
        "        print(character, end='-')  # What is the 'end' argument doing?"
      ]
    },
    {
      "cell_type": "markdown",
      "metadata": {
        "id": "ogkfQmutbpRm"
      },
      "source": [
        "#### The enumerate function\n",
        "\n",
        "The `enumerate()` is problably the most used among the functions that supports the iteration of an iterable. This function return the current item plus **its index** in the iteration process.\n",
        "\n",
        "You can see that we assign two variable names, `i` and `word` to the outcome of `enumerate()`. \n",
        "What is the datatype that this function is returning? \n",
        "And what are the datatypes of its elements?"
      ]
    },
    {
      "cell_type": "code",
      "execution_count": null,
      "metadata": {
        "id": "h5F7bDyFbpRm"
      },
      "outputs": [],
      "source": [
        "# Use enumerate in the iteration over a list of words\n",
        "text = \"Lorem ipsum dolor sit amet, consectetur adipiscing elit.\"\n",
        "words = text.split()\n",
        "\n",
        "for i, word in enumerate(words):\n",
        "    print (i, \"-->\", word)"
      ]
    },
    {
      "cell_type": "code",
      "execution_count": null,
      "metadata": {
        "id": "rdCbsbIxbpRm"
      },
      "outputs": [],
      "source": [
        "# What is the datatype of the returning value of enumerate(words)?\n",
        "index_words = enumerate(words)\n",
        "index_words = list(index_words)\n",
        "index_words"
      ]
    },
    {
      "cell_type": "markdown",
      "metadata": {
        "id": "egCXgKeUbpRn"
      },
      "source": [
        "Optionally, you can make the `enumerate()` function start at another number:"
      ]
    },
    {
      "cell_type": "code",
      "execution_count": null,
      "metadata": {
        "id": "lb3xZGRRbpRn"
      },
      "outputs": [],
      "source": [
        "for i, word in enumerate(words, 98):\n",
        "    \n",
        "    if i > 100:\n",
        "        break\n",
        "    # No else here?\n",
        "    \n",
        "    print(i, word)"
      ]
    },
    {
      "cell_type": "markdown",
      "metadata": {
        "id": "W52stnECbpRn"
      },
      "source": [
        "#### The range construct\n",
        "\n",
        "The  `range()` construct can be used to control the iteration. It generate lists of numbers on the basis of the following three arguments:\n",
        "\n",
        "- `start` : the first integer of the list\n",
        "(default is 0)\n",
        "- `stop` : one larger the last integer of the list (list stop at n - 1)\n",
        "- `step`: the increment of the list (default is 1)"
      ]
    },
    {
      "cell_type": "code",
      "execution_count": null,
      "metadata": {
        "id": "WCiMZKAGbpRn"
      },
      "outputs": [],
      "source": [
        "# Let's play with range\n",
        "print(range(0,10))\n",
        "print(range(10))\n",
        "print(range(1,10,2))"
      ]
    },
    {
      "cell_type": "markdown",
      "metadata": {
        "id": "LPdR75mrbpRo"
      },
      "source": [
        "This each prints the function name with its arguments. Not very informative at this point...\n",
        "\n",
        "Similar to the call with the `list()` function above, we first have to transform the outcome of this function to a list to make it printable. This happens for some efficient functions that don't put everything in memory at once, but only during each iteration (when you run the code). So basically, the `range()` function produces a list of numbers."
      ]
    },
    {
      "cell_type": "code",
      "execution_count": null,
      "metadata": {
        "id": "T4tOprLfbpRo"
      },
      "outputs": [],
      "source": [
        "print(list(range(100, 1, -10)))  # You can make it reverse with a negative step!"
      ]
    },
    {
      "cell_type": "code",
      "execution_count": null,
      "metadata": {
        "id": "HRHD-N3KbpRo"
      },
      "outputs": [],
      "source": [
        "# Let's use range in a for loop\n",
        "\n",
        "for i in range(1, 10, 2):\n",
        "    print(i)"
      ]
    },
    {
      "cell_type": "markdown",
      "metadata": {
        "id": "RRKlt5zqbpRo"
      },
      "source": [
        "### While Loops\n",
        "\n",
        "The `while` statement allows us to control a loop on the basis of a condition. \n",
        "\n",
        "A `while` loop runs as long as a condition is verified. \n",
        "\n",
        "It has the following general form:\n",
        "\n",
        "```python\n",
        "while condition:\n",
        "\t# statement\n",
        "else:\n",
        "\t# statement\n",
        "```\n",
        "\n",
        "the code in the optional `else` clause is execute if and only if the loops terminates successfully (i.e., without a **`break`**)"
      ]
    },
    {
      "cell_type": "markdown",
      "metadata": {
        "id": "VUvZtFIgbpRo"
      },
      "source": [
        "### Quiz\n",
        "\n",
        "_Think before doing._ What do you think happens when you execute?\n",
        "\n",
        "```python\n",
        "\n",
        "n = 1\n",
        "\n",
        "while n:\n",
        "    print(n)\n",
        "    n += 1\n",
        "```\n",
        "\n",
        "If you dare, you can execute this code. **Do this in a terminal window  instead of this notebook!**"
      ]
    },
    {
      "cell_type": "markdown",
      "metadata": {
        "id": "tvx5SJKvbpRp"
      },
      "source": [
        "More safe is the code below, this does not let you end up in an _infinite loop_. Try executing the code a couple of t imes and see what it does. What is your longest streak of odd numbers?"
      ]
    },
    {
      "cell_type": "code",
      "execution_count": null,
      "metadata": {
        "id": "pGkczLiObpRp"
      },
      "outputs": [],
      "source": [
        "import random\n",
        "\n",
        "n = 1\n",
        "while n % 2 != 0:\n",
        "    n = random.randrange(99)\n",
        "    print(n)"
      ]
    },
    {
      "cell_type": "markdown",
      "metadata": {
        "id": "_gh7zGGVbpRp"
      },
      "source": [
        "---"
      ]
    },
    {
      "cell_type": "markdown",
      "metadata": {
        "id": "2OghnG89bpRp"
      },
      "source": [
        "### Break and Continue\n",
        "\n",
        "The clauses `break` and `continue` are two statements that allow for a more flexible control of a loop. Intuitively:\n",
        "\n",
        "- `continue` is used to pass to the next iteration of the loop\n",
        "- `break` is used to interrupt the loop abruptly"
      ]
    },
    {
      "cell_type": "code",
      "execution_count": null,
      "metadata": {
        "id": "8zU8_LIAbpRp"
      },
      "outputs": [],
      "source": [
        "# When we encounter 7 we skip to the next step\n",
        "for el in range(1, 10, 2):\n",
        "    if el == 7:\n",
        "        continue\n",
        "    print(el)"
      ]
    },
    {
      "cell_type": "code",
      "execution_count": null,
      "metadata": {
        "id": "Q6fbPEWWbpRp"
      },
      "outputs": [],
      "source": [
        "# When we encounter 7 we stop our loop \n",
        "for el in range(1, 10, 2):\n",
        "    if el == 7:\n",
        "        break\n",
        "    print(el)"
      ]
    },
    {
      "cell_type": "markdown",
      "metadata": {
        "id": "dYdr-UGlbpRq"
      },
      "source": [
        "The `break` influences the execution of the loop in yet another way: when a loop terminates due to a `break` statement, the code embedded in the option `else` clause is skipped."
      ]
    },
    {
      "cell_type": "code",
      "execution_count": null,
      "metadata": {
        "id": "RyA1KDo0bpRq"
      },
      "outputs": [],
      "source": [
        "# The continue statement does not influence the execution of the else block\n",
        "for el in range(1, 10, 2):\n",
        "    if el == 7:\n",
        "        print (\"(let's ignore the \" + str(el) + \")\")\n",
        "        continue\n",
        "    print(el)\n",
        "else:\n",
        "    print (\">>> the iteration ended with the number \" + str(el))"
      ]
    },
    {
      "cell_type": "code",
      "execution_count": null,
      "metadata": {
        "id": "V15cF_UobpRq"
      },
      "outputs": [],
      "source": [
        "# What if we replace continue with break\n",
        "for el in range(1, 10, 2):\n",
        "    if el == 7:\n",
        "        print (\"(we encountered the number \" + str(el) + \", let's break the loop)\")\n",
        "        break\n",
        "    print(el)\n",
        "else:\n",
        "    print (\">>> the iteration ended with the number \" + str(el))"
      ]
    },
    {
      "cell_type": "markdown",
      "metadata": {
        "id": "dfYI-vqpbpRq"
      },
      "source": [
        "### The Pass Statement\n",
        "\n",
        "Given the importance of indentation for Python, sometimes we may need a placeholder that allows us to write down a condition for an `if-then-else` construct or for a `while` loop without writing any statement (maybe just a comment). This is the case in which the `pass` statement comes in handy. \n",
        "\n",
        "In what follows, **nothing happens**:\n",
        "\n",
        "```python\n",
        "if condition1:\n",
        "    pass\n",
        "else:\n",
        "    pass\n",
        "```\n"
      ]
    },
    {
      "cell_type": "code",
      "execution_count": null,
      "metadata": {
        "id": "9enhPMzkbpRq"
      },
      "outputs": [],
      "source": [
        "numbers = range(10)\n",
        "\n",
        "# Handy if you're quickly typing a loop\n",
        "# or function (see further on in this notebook)\n",
        "\n",
        "for n in numbers:\n",
        "    if n % 2 == 0:\n",
        "        pass  # TODO\n",
        "    else:\n",
        "        print(\"Odd!\")"
      ]
    },
    {
      "cell_type": "markdown",
      "metadata": {
        "id": "GbtXtrlMbpRr"
      },
      "source": [
        "---"
      ]
    },
    {
      "cell_type": "markdown",
      "metadata": {
        "id": "X5_8X-9hbpRr"
      },
      "source": [
        "### List Comprehensions (advanced)\n",
        "\n",
        "A list comprehension is a syntactic construct that allows us to create lists by applying a function on another list, in just **one line** of code. \n",
        "\n",
        "Even if the reverse isn't always true, list comprehensions can always be (inefficiently) expressed as loops. We will exploit this family resemblance for introducing this construct."
      ]
    },
    {
      "cell_type": "markdown",
      "metadata": {
        "id": "T52TEZpTbpRr"
      },
      "source": [
        "In what follows, we start with a list of numbers and we want to square all of its elements and save our final values in a new list."
      ]
    },
    {
      "cell_type": "code",
      "execution_count": null,
      "metadata": {
        "id": "xreE3ubQbpRr"
      },
      "outputs": [],
      "source": [
        "# Our source list\n",
        "source_list = [1,2,3,4,5,6,7,8,9]"
      ]
    },
    {
      "cell_type": "code",
      "execution_count": null,
      "metadata": {
        "id": "k-CrBOsEbpRr"
      },
      "outputs": [],
      "source": [
        "# We can solve this problem with a for loop...\n",
        "final_list = []\n",
        "\n",
        "for el in source_list:\n",
        "    final_list.append(el ** 2)\n",
        "\n",
        "print(final_list)"
      ]
    },
    {
      "cell_type": "code",
      "execution_count": null,
      "metadata": {
        "id": "eipfML2TbpRr"
      },
      "outputs": [],
      "source": [
        "# But this can also be done in one line\n",
        "final_list = [el ** 2 for el in source_list]\n",
        "\n",
        "print(final_list)"
      ]
    },
    {
      "cell_type": "markdown",
      "metadata": {
        "id": "Z-2UhsqvbpRr"
      },
      "source": [
        "These list comprehensions cary the form of:\n",
        "    \n",
        "```python\n",
        "[i.method() for i in items]\n",
        "```"
      ]
    },
    {
      "cell_type": "markdown",
      "metadata": {
        "id": "glykXGT9bpRr"
      },
      "source": [
        "**Conditional statements may be implemented**\n",
        "\n",
        "In what follows we want to ignore all the odd numbers"
      ]
    },
    {
      "cell_type": "code",
      "execution_count": null,
      "metadata": {
        "id": "_diIdh-vbpRs"
      },
      "outputs": [],
      "source": [
        "# We can solve this problem with a for loop...\n",
        "final_list = []\n",
        "\n",
        "for el in source_list:\n",
        "    if el % 2 == 0:\n",
        "        final_list.append(el ** 2)\n",
        "\n",
        "print(final_list)"
      ]
    },
    {
      "cell_type": "code",
      "execution_count": null,
      "metadata": {
        "id": "5xKe9qP7bpRs"
      },
      "outputs": [],
      "source": [
        "# ... or by using list comprehension\n",
        "final_list = [el ** 2 for el in source_list if el % 2 == 0]\n",
        "\n",
        "print(final_list)"
      ]
    },
    {
      "cell_type": "markdown",
      "metadata": {
        "id": "g8zffkMybpRs"
      },
      "source": [
        "**If you want to implement an else clause the syntax changes slightly**\n",
        "\n",
        "In what follows we want to leave the odd numbers unchanged"
      ]
    },
    {
      "cell_type": "code",
      "execution_count": null,
      "metadata": {
        "id": "OXheeO4mbpRs"
      },
      "outputs": [],
      "source": [
        "# we can solve this problem with a for loop...\n",
        "final_list = []\n",
        "\n",
        "for el in source_list:\n",
        "    if el % 2 == 0:\n",
        "        final_list.append(el ** 2)\n",
        "    else:\n",
        "        final_list.append(el)\n",
        "\n",
        "print(final_list)"
      ]
    },
    {
      "cell_type": "code",
      "execution_count": null,
      "metadata": {
        "id": "RDwqq-yabpRs"
      },
      "outputs": [],
      "source": [
        "# ... or by using list comprehension\n",
        "final_list = [el ** 2 if el % 2 == 0 else el for el in source_list]\n",
        "\n",
        "print(final_list)"
      ]
    },
    {
      "cell_type": "markdown",
      "metadata": {
        "id": "8E5dOz8KbpRs"
      },
      "source": [
        "### Quiz\n",
        "\n",
        "The following list contains 100 random extractions (with replacement) of numbers between 1 and 15. \n",
        "\n",
        "Find the number that has never been extracted"
      ]
    },
    {
      "cell_type": "code",
      "execution_count": null,
      "metadata": {
        "id": "Cv2ZrsaSbpRt"
      },
      "outputs": [],
      "source": [
        "random_numbers = [1, 2, 1, 1, 9, 13, 15, 5, 9, 8, 12, 14, 3, 2, 8, 10, 3, 12, 15, 13, 5, 3, 7, 5, 2, 13, 12, 8, 10, 5, 15, 8, 2, 8, 5, 12, 9, 2, 3, 5, 1, 4, 5, 9, 13, 2, 12, 5, 10, 8, 1, 15, 15, 6, 12, 3, 1, 3, 7, 14, 15, 10, 15, 7, 10, 12, 1, 2, 13, 7, 9, 6, 6, 7, 4, 12, 10, 8, 8, 3, 8, 4, 6, 14, 10, 5, 2, 3, 15, 4, 9, 3, 7, 7, 2, 4, 4, 1, 7, 15]"
      ]
    },
    {
      "cell_type": "code",
      "execution_count": null,
      "metadata": {
        "id": "XPH0Li2CbpRt"
      },
      "outputs": [],
      "source": [
        "# Your code here\n",
        "\n"
      ]
    },
    {
      "cell_type": "markdown",
      "metadata": {
        "id": "kPgRBM5fbpRt"
      },
      "source": [
        "---"
      ]
    },
    {
      "cell_type": "markdown",
      "metadata": {
        "id": "PUoIYLuibpRt"
      },
      "source": [
        "# Input / Output\n",
        "\n",
        "We now discussed the art of looping, to automate bits of your code and prevent repetition. If you know that you're going to use parts of your code more than once, you can make a function out of it. Functions are constructs that allows us to organize portions of code more than once in a program. The alternative way to obtain the same results without functions would be to copy the same portion of code every time it is needed. Organizing your code with functions makes it easier to split your problem into smaller subproblems.\n",
        "\n",
        "We have seen plenty of built-in functions so far. If you used them, you could have recognized them by their parenthesesis after their name. The `print()` functions is such an example. \n",
        "\n",
        "A function **takes optional parameters** (inside the parenthesis) and **optionally returns a value** after it has done something. "
      ]
    },
    {
      "cell_type": "markdown",
      "metadata": {
        "id": "KOLObCmNbpRt"
      },
      "source": [
        "## Functions\n",
        "\n",
        "Functions in Python are defined by a `def` statement, following this template:\n",
        "\n",
        "```python\n",
        "\n",
        "def function_name(parameters):\n",
        "    \"\"\"\n",
        "    Documentation on what the function is doing\n",
        "    \"\"\"\n",
        "    \n",
        "    # your statements\n",
        "    result = True\n",
        "    \n",
        "    return result\n",
        "```"
      ]
    },
    {
      "cell_type": "markdown",
      "metadata": {
        "id": "S91lD4C6bpRt"
      },
      "source": [
        "> The list of the parameters required by the function is reported between round brackets right after the name of the function. Each function may have **zero or more** parameters. When a function is called, its parameters are called **arguments**.\n",
        ">\n",
        "> The (optional) documentation string should be placed immediately after the function definition. There are many way to format your **docstring**, [PEP 287](https://www.python.org/dev/peps/pep-0257/) recommends reStructuredText, but more formats are available. See [this tutorial](http://daouzli.com/blog/docstring.html) for an introduction to the topic.\n",
        ">\n",
        "> The **indented** function body contains all the statements that are executed every time the function is called. When a `return` statement is executed, the function exits and its output is the argument of the `return` statement. \n",
        ">\n",
        "> When there is no return statement in the body function, or when a return statement with no arguments is executed, the function  returns `None`"
      ]
    },
    {
      "cell_type": "markdown",
      "metadata": {
        "id": "BnGsh3aLbpRu"
      },
      "source": [
        "For instance, the following function calculates the number of characters in a string:"
      ]
    },
    {
      "cell_type": "code",
      "execution_count": null,
      "metadata": {
        "id": "FUf2PG4TbpRu"
      },
      "outputs": [],
      "source": [
        "def chars(s):\n",
        "    \"\"\"\n",
        "    Calculate the number of characters in a string\n",
        "    \"\"\"\n",
        "    \n",
        "    if type(s) != str:\n",
        "        return \"This is not a string!\"\n",
        "    \n",
        "    r = len(s)\n",
        "    \n",
        "    return r"
      ]
    },
    {
      "cell_type": "markdown",
      "metadata": {
        "id": "T0nrbMhvbpRu"
      },
      "source": [
        "The docstring is saved into a  `__doc__` variable and can be accessed by using the `help()` function or the IPython `?`"
      ]
    },
    {
      "cell_type": "code",
      "execution_count": null,
      "metadata": {
        "id": "S3XRVhhGbpRu"
      },
      "outputs": [],
      "source": [
        "# Don't use this, it is just to make the point\n",
        "print(chars.__doc__)"
      ]
    },
    {
      "cell_type": "code",
      "execution_count": null,
      "metadata": {
        "id": "qJOibB98bpRu"
      },
      "outputs": [],
      "source": [
        "# Use one of this two\n",
        "help(chars)\n",
        "chars?"
      ]
    },
    {
      "cell_type": "markdown",
      "metadata": {
        "id": "tRyIRIjxbpRu"
      },
      "source": [
        "Or keep using the `shift + tab` ipython magic!"
      ]
    },
    {
      "cell_type": "code",
      "execution_count": null,
      "metadata": {
        "id": "MybHD-nEbpRu"
      },
      "outputs": [],
      "source": [
        "chars('test')"
      ]
    },
    {
      "cell_type": "markdown",
      "metadata": {
        "id": "jxVgwUGUbpRv"
      },
      "source": [
        "In order to execute the code included in a function, you have to **call the function**, either in your script or in the interactive shell. For instance:"
      ]
    },
    {
      "cell_type": "code",
      "execution_count": null,
      "metadata": {
        "id": "4PyFCCb2bpRv"
      },
      "outputs": [],
      "source": [
        "chars(\"voodoo\")"
      ]
    },
    {
      "cell_type": "code",
      "execution_count": null,
      "metadata": {
        "id": "eBScujrtbpRv"
      },
      "outputs": [],
      "source": [
        "chars(1979)"
      ]
    },
    {
      "cell_type": "markdown",
      "metadata": {
        "id": "_5yKAbrEbpRv"
      },
      "source": [
        "The `return` is also optional. What happens when you assign a variable to a function call that does not have a return statement? "
      ]
    },
    {
      "cell_type": "code",
      "execution_count": null,
      "metadata": {
        "id": "7aEnjds9bpRv"
      },
      "outputs": [],
      "source": [
        "def tokenize(text):\n",
        "    words = text.split()\n",
        "    \n",
        "    print(words)\n",
        "    \n",
        "    # Forgot something?\n",
        "    \n",
        "words = tokenize(\"What happens when there is no return keyword?\")\n",
        "\n",
        "print(type(words))"
      ]
    },
    {
      "cell_type": "markdown",
      "metadata": {
        "id": "wnJU6BVabpRv"
      },
      "source": [
        "Sometimes, you don't need a return statement, as you're for instance writing a function as some kind of wrapper function, that ties several methods together. Or write the output to a file, instead of to the console. It's best to make clear in the docstring/documentation of the function (using the `\"\"\" \"\"\"` docstring style) what the function takes in, processes, and spits out again. "
      ]
    },
    {
      "cell_type": "markdown",
      "metadata": {
        "id": "3lRnQLGwbpRv"
      },
      "source": [
        "### Parameters\n",
        "\n",
        "A function can receive any number of parameters:"
      ]
    },
    {
      "cell_type": "code",
      "execution_count": null,
      "metadata": {
        "id": "Xx4DPML_bpRv"
      },
      "outputs": [],
      "source": [
        "def higher(n1, n2, n3):\n",
        "    \"\"\"\n",
        "    Find the higher of three numbers\n",
        "    \"\"\"\n",
        "    \n",
        "    if n1 > n2 and n2 >= n3:\n",
        "        return n1\n",
        "    \n",
        "    if n2 >= n3:\n",
        "        return n2\n",
        "    \n",
        "    else:\n",
        "        return n3"
      ]
    },
    {
      "cell_type": "code",
      "execution_count": null,
      "metadata": {
        "id": "2X_5CEpmbpRw"
      },
      "outputs": [],
      "source": [
        "# A parameter can be passed either by position\n",
        "higher(4, 2, 8)"
      ]
    },
    {
      "cell_type": "code",
      "execution_count": null,
      "metadata": {
        "id": "MTCHT224bpRw"
      },
      "outputs": [],
      "source": [
        "# Or by name/keyword\n",
        "higher(n3=8, n1=4, n2=2)"
      ]
    },
    {
      "cell_type": "markdown",
      "metadata": {
        "id": "OUEynmv9bpRw"
      },
      "source": [
        "#### Optional Parameters\n",
        "\n",
        "In some situation it may be useful to have a default parameter value, that is used when a call leaves an arguments **unspecified**."
      ]
    },
    {
      "cell_type": "code",
      "execution_count": null,
      "metadata": {
        "id": "V8rYqDIUbpRw"
      },
      "outputs": [],
      "source": [
        "def higher(n1, n2=0, n3=0):\n",
        "    \"\"\"\n",
        "    Find the higher of three numbers\n",
        "    \"\"\"\n",
        "    \n",
        "    if n1 > n2 and n2 >= n3:\n",
        "        return n1\n",
        "    if n2 >= n3:\n",
        "        return n2\n",
        "    else:\n",
        "        return n3"
      ]
    },
    {
      "cell_type": "code",
      "execution_count": null,
      "metadata": {
        "id": "B6YkicoSbpRw"
      },
      "outputs": [],
      "source": [
        "higher(9,4)"
      ]
    },
    {
      "cell_type": "markdown",
      "metadata": {
        "id": "JMWtCzEubpRw"
      },
      "source": [
        "But what happens now:"
      ]
    },
    {
      "cell_type": "code",
      "execution_count": null,
      "metadata": {
        "id": "NPzn-ZQabpRw"
      },
      "outputs": [],
      "source": [
        "higher(-6, -3)  # How to fix this? "
      ]
    },
    {
      "cell_type": "code",
      "execution_count": null,
      "metadata": {
        "id": "5_U5un-_bpRw"
      },
      "outputs": [],
      "source": [
        ""
      ]
    },
    {
      "cell_type": "markdown",
      "metadata": {
        "id": "S3uaHOw-bpRw"
      },
      "source": [
        "#### Arbitrary Number of Parameters\n",
        "\n",
        "A different situation is when we want our function to have an unspecified number of parameters. Python functions admit the so-called \"tuple references\", marked by an asterisk `*` in front of the last parameter  (that becomes a `tuple`)."
      ]
    },
    {
      "cell_type": "code",
      "execution_count": null,
      "metadata": {
        "id": "uonhMjvvbpRx"
      },
      "outputs": [],
      "source": [
        "def print_params(*params):\n",
        "    print (\"your input:\")\n",
        "    print (params)"
      ]
    },
    {
      "cell_type": "code",
      "execution_count": null,
      "metadata": {
        "scrolled": true,
        "id": "I08CDCWHbpRx"
      },
      "outputs": [],
      "source": [
        "print_params(\"Down from my ceiling\", \"Drips great noise\", \"It drips on my head through a hole in the roof\") "
      ]
    },
    {
      "cell_type": "markdown",
      "metadata": {
        "id": "BJIoWFPebpRx"
      },
      "source": [
        "---"
      ]
    },
    {
      "cell_type": "markdown",
      "metadata": {
        "id": "7pRQpYJEbpRx"
      },
      "source": [
        "#### Quiz\n",
        "\n",
        "Remember the grocery list. Can you write a function that:\n",
        "* Takes *one or multiple* items as arguments\n",
        "* Takes in an existing dictionary of grocaries (keys) and counts (values)\n",
        "* Adds the single or multiple items to this dictionary if it is not yet in there and update the count if it is\n",
        "* Returns this (updated) dictionary"
      ]
    },
    {
      "cell_type": "code",
      "execution_count": null,
      "metadata": {
        "id": "8qXossqwbpRx"
      },
      "outputs": [],
      "source": [
        "grocaries = {\n",
        "    'kiwi': 8,\n",
        "    'bread': 2,\n",
        "    'banana': 3,\n",
        "    'soy sauce': 1,\n",
        "    'red wine': 1,\n",
        "    'soup': 1\n",
        "}\n",
        "\n",
        "# Your code here\n",
        "\n",
        "\n"
      ]
    },
    {
      "cell_type": "markdown",
      "metadata": {
        "id": "RRU3EFW1bpRx"
      },
      "source": [
        "---"
      ]
    },
    {
      "cell_type": "markdown",
      "metadata": {
        "id": "2bgjmR-pbpRx"
      },
      "source": [
        "## Modules and Packages\n",
        "\n",
        "Python modules are groupings of related code that are structures as to facilitate its re-use. \n",
        "\n",
        "Physically, modules are `.py` files implementing a set of **functions, classes or variables**, as well as **executable statements**, that can be accessed from other modules by using the `import` command."
      ]
    },
    {
      "cell_type": "markdown",
      "metadata": {
        "id": "Z-uooggqbpRx"
      },
      "source": [
        "The `import` command can be used both to import **the whole code** of a module, using the following syntax:\n",
        "\n",
        "```python\n",
        "import module\n",
        "```\n",
        "\n",
        "or just **specific attributes** (one or more functions, variables, classes or a combination of these) with the following syntax:\n",
        "\n",
        "```python\n",
        "from module import name1, name2, name3\n",
        "```"
      ]
    },
    {
      "cell_type": "markdown",
      "metadata": {
        "id": "-QtS4BUhbpRx"
      },
      "source": [
        "For example, if order to know what is our current working directory, we can use the function `getcwd()` available `os` module (see below) in two different ways:"
      ]
    },
    {
      "cell_type": "code",
      "execution_count": null,
      "metadata": {
        "id": "pIBtSimRbpRy"
      },
      "outputs": [],
      "source": [
        "import os\n",
        "os.getcwd()"
      ]
    },
    {
      "cell_type": "code",
      "execution_count": null,
      "metadata": {
        "id": "M71lbz8hbpRy"
      },
      "outputs": [],
      "source": [
        "from os import getcwd\n",
        "getcwd()"
      ]
    },
    {
      "cell_type": "markdown",
      "metadata": {
        "id": "aczqo3M3bpRy"
      },
      "source": [
        "You can think of a **package** as a structured collection of Python modules."
      ]
    },
    {
      "cell_type": "markdown",
      "metadata": {
        "id": "EfsjVLd-bpRy"
      },
      "source": [
        "There are some modules/libraries available in Python as built-in. Take a closer look at three of them:\n",
        "    \n",
        "- Math ([manual](https://docs.python.org/3/library/math.html))\n",
        "- Collections ([manual](https://docs.python.org/3/library/collections.html))\n",
        "- Itertools ([manual](https://docs.python.org/3/library/itertools.html))"
      ]
    },
    {
      "cell_type": "markdown",
      "metadata": {
        "id": "lpebGWzNbpRy"
      },
      "source": [
        "Can you figure out when to use the `defaultdict` and `Counter` from the Collections library? Can you use them in any of the functions/code you wrote above?"
      ]
    },
    {
      "cell_type": "code",
      "execution_count": null,
      "metadata": {
        "id": "6I1Wzpo8bpRy"
      },
      "outputs": [],
      "source": [
        "# Example\n",
        "\n",
        "from collections import Counter\n",
        "\n",
        "# Your code here"
      ]
    },
    {
      "cell_type": "markdown",
      "metadata": {
        "id": "LJnKeC7nbpRy"
      },
      "source": [
        "---"
      ]
    },
    {
      "cell_type": "markdown",
      "metadata": {
        "id": "LYxAEcb8bpRy"
      },
      "source": [
        "## File Input/Output\n",
        "\n",
        "A huge portion of our input data will come from files on disk, and a lot of our work will be saved in memory. So, mastering the art of reading and writing is crucial even in programming."
      ]
    },
    {
      "cell_type": "markdown",
      "metadata": {
        "id": "jsPrvM_ZbpRz"
      },
      "source": [
        "**Files in Colab**\n",
        "\n",
        "In these examples, we will work with a file referred to as \"data/adams-hhgttg.txt\". This means there should be a directory called \"Data\" and inside of that there should be the file \"adams-hhgttg.txt\". You will find this in the course repository in the Notebooks directory. Obtain this file either by downloading the course repository and finding it there, or opening it on Github and saving the raw file.\n",
        "\n",
        "![github-download.png](data:image/png;base64,iVBORw0KGgoAAAANSUhEUgAAAYQAAAFBCAIAAAD4+k+DAAAAAXNSR0IArs4c6QAAAARnQU1BAACxjwv8YQUAAAAJcEhZcwAADsMAAA7DAcdvqGQAAFISSURBVHhe7Z2Hf1RF2/f9R97ned/n4VYRMECQDgFCAkkghN57FRRRFBuiWLkREVQUG3IDNgQsWG70VuyCFOmhJfSQtj2d4vu7znV2Mjtnk2yWZNkk1+/zY5kzZ86cObNnvnvNbMktf4tEIlEcSGAkEoniQgIjkUgUFxIYiUSiuJDASCQSxYUERiKRKC4kMBKJRHEhgZFIJIoLCYxEIlFcSGAkEoniQgIjkUgUFxIYiUSiuJDASCQSxYUERiKRKC4kMBKJRHEhgZFIJIoLCYxEIlFcSGAkEoniQgIjkUgUFxIYRalilzvn7LljJ04dPX6ypRlXjWtHD9h9EYFacncpR9Fv7+7dPPLDexJey7hj9YDmYVwLrgjXZV+hJoFRvVVZWYVb6mTOWY/XX1F1pQU6UFaOaz9z7gL6Ab1h90sNku5Srle/nffmYdDe8Wpa2/cGtduU2WzcdsNgXFGbNWm4OlyjfbWWBEb1Fu6k85fyyiuvlFdUlbVU49r9peWX84vQG3a/1CDpLt2R9xvGapu16cZIbjYmJL1FIZJ9tZYERvUTYmy8smFoGTdZyzTGFXqjlnmHdFdY19lvmMUgdjAGcDMzeIRr1OdrAqP66fSZs4Uuj3FvtWS7vX70id07Dkl31eTa+w0hQ9t3m9XsLKwxX9ODI4FR/XTsxClfSZlxY7Vk+0vK0Cd27zgk3VWT0S219FvCaxkIHIyh2/yMa8SV2tcsMKqvjh4/adxVYvSJ3TsOSXfV4lr67Y7VA4xx21yNK7WvWWBUX8noclpgFJ0FRrDAKHrJ6HJaYBSdBUawwCh6yehyWmAUnQVGsMAoesnoclpgFJ0FRrDAKHrdyOg6/+O6+VOHdGid0Kp1QpukUeNX/FbgKNOwPv/L2qlJnXG6Z37Zuzw9IfXlvR7kn/tkauuEqZvzjMJRu5FgdGrjBOqoZXuNfM15m2YktJrxyXkzv6ps14t01bsc+aV5O1+Z2zURT8GLf5zbPjWx89St1A/nN89t1XrupnOO8o3pRoDRzIez9+ZUVNq1XK+8eG6Fo0yN3urDMRe2OvIb1QKj6BXt6Ar88fKoNokTlv941lNKOZ5Lhze9szPMKKrBBbvWzs5atKVeo6Vox/zWCUkvW4PZ1+RgdHLdiISpM+a2Snx2p8/YpVxvGBVsX9SqddryPdZmc4PRzBV57r//rizK/+rJ72Zic/r+33efW+soVqMFRk1M0Y0ujIE2rSesyzbzI3c0o6Um6DQJGO1bm9R60fZzOxe3Tlj8fcDca7veMKqpG5sBjAYeyq74+29//rqBjl0RWmDUxBTV6Dq7blRCqyU7KSoJa/fJLcsWpHaj6VuH9AWrfjEx8ccy2mWbx15dh/BoDPrFPyr2PoMET3lCYYSp3Oz0nlzPG3tc9uH1cWPAaP8raa3mby+oCOxYktDqgR3V89nqeVbP4UvWPjOpGkaeI58sHkUX0iZp7huvLEHCgFFIN6IrtH4IgZH75KYlE+gUicnDl2w/ZUWyuje8/3Hm8DGGkWkUq9MNCqOZNko+N/LZS9dfuuC/alV9vdLv+ek5u9jS9fn5Fdet/Iqc7FL8F4TRzk93l5RYO/72l+x95Rsu3/AWGEWvaEaXj17ex39w1sxnl57dNKdzmznv7y9COnDkg7ltWg9ZvseMBUJGS2SHhEInPIw8u15MbT3kmV+IQaeonmiig4aHke+3xYkJsz+lVlkTqwVb8u1d+9cMaZU4d91B2nV+x7OpuCiGUf6O+YkJqUt3ngc7ig6vm2OtlNUeGYWFkd23nxCDin57Jj0haZk1tw21waMoSAQ3KIzW7a7EFO3gCjMfnrkiH1gpOZC9YiDmbocO+kEez7fTN2U+eZGmdRfPrx1Ji03ZyLdh9Pm63YiyKg6CQQN//SkHFPNReUfNDWCBUfSKZnRZazfVkQjd9/z6bN39e1a3ad1ZGzaHVyWHCaNCRlFkh0QAo7wtcxKsAMQqz+201lDq5QaHkefHZ6uxGNJ7e5cn6kvaZzcFI6PzW7X+gX+JYJoWFkbUt2mr9tnl969Ja5W4+g+tBmXFo+hIBMcKRt/moEbft2r6tp6+n5v/3fdriTjVh8z8imhkwejUBaSyj8/UypvTt6W71hx1nTaMTL1MJBYYRa+oRpcFi+d+0zPV3W+OohrWQfRRFOEhEcDIygx1sHw93NAwcm1/wGxVq1Hvn8KuS9u1K4KrL/yPlxEKYTYarCSSNaNwMLISxtm1akMNDEVNIrhBYbT4O0Q/13PWm/mZ7fZQKOTPX6dyOFDavdeGlMpXa0ZWAUMmjGCDR1GQCBYYRa+oRhdPLhZtD8414OpRES7Mcb6fHTKKIjskAhhZkVEti1mRuYFhlL99duuE4RurZ7UFny5o1XoULf+X/oarSFpzOLjLorwFo1MfzGjVetF2zFv5EJrcRR0ZWecKPbAx3KAwypx+Jh8HXsxdauTXEBld2Iq5GIKpsr0P2/krfi6z8pGmyKjywCG7fC1WPIqORLDAKHpFByN7JSLrxR2nrJWd0sD+N0fZd3/p4VXpCcYC0KqDZg1WNDTqDc6P7JAIYETV4tjFO6wPHJS69r+3vaYooBY3LIyq0aMyLTxZDArsXNq5VeLcTaco31rkCoaEp94f3johddlvBcG1nihhZH0GgvrWeuXw5O5c9zV3YMO7YWGEmdp3paBLSU7uuum0Pr3gySN7rbf2Z653U37ImpH7U7DplUKa2uXkUv7DuRcwabNh9P23tE5Ukf3hHwv4IwIHzlcHVoaBoahJBDcijK43dx3JPlFaXhmNSy79vuGZ8db7VnCbpFGD5r3xe6G1q/DQRn77pnXnrmOf2XigOORAtuvQ61OtY+d8cQ6bkRxydjMNto8vWZt7nsaxL+xx5PsPf/zMcOuDka26DZn9wg9UeT2NPrF7x6H6d9eZd0cltBqx6XBIZvEn8xNaJb+xrwT9cAIXTh8c7TZh8cc/vE7TtM3c5nM/v2F9wrNz1zlv/LBtOa7o6T/0SqwyHxN0Np61NrV+CMm/+OvL8/izqejbRe8e8POxDe5a+u2OVQPabcystz978b2L531X7EquXwkcO/minX/5su+alXktcOHytoc/4/JvfOkOWLnXfe4ff/Lh//NbrKoG7vrxdHkF77pe4frr2GL7FLXYAZpI3GAwstvakhQ9jJqvGxRGLcgND6N4swM9TkcJI7ufWrZkdDktMIrOzR9GTkcHI7tX6iUc1dx95PjJ0ooqsW70idFLytJdtbiWfrtj9cB2m4Y0PRvoicC1wcjGSi0K7TXlFqIoF7CbtRt2AbvluJZ+a7N64J2bhjRFm3hSdmCIjRgwyJVQGHFujWph3AkrGV1OC4yic7OEUVjXgiQFI8iGkb2lK4ie2gFkF24xwg3kDZQak/8WbvSJ3TsOSXfV4lr6rf1rGe02DL5zU2ZTtokkdjWYLCe8mmFfM2Bk/6+rZvrYBVqwTubkFru9xl3Vkp1f5EKf2L3jkHRXTa6930Z+eE+79wY5hndTtwNM7w4e+eG9BBxLDhg5SGTn37CuXWsOzrtckH0yt6SsUsw+nXsefWL0krJ0V02uvd/e2bO5zSvp7TZiXhNfdvAlahOM2q5Jf3fvZmYOEBGEUf0ZZHTfNeTU4OakyspKvKBdulxgvNC1TJ+9cBG9gT6xe8ch6a6wrrPfoFEf3tvuLQRHdhARVzamWiGOGF5t16abf946cgwZ3KmXrjUj+Xx+3EnHT+UWuTwlZRUt0B5/Ca49J/cc+gG9YfdLDZLuUq5Xv511Xxz1wT1tXk1v997gOzGq48cONtVig1BgULsNgzEDbbsmDSQ657nEfGDyEIyUeIchBaCwsnsuUgVra8q+evVaWVn5pbz8kzlnjh4/dST7ZEszrhrXjh5AP6A3jP4xLN2lXK9+Y7+7Z/OoD+5t/9rgNqvT4sADI3fbcEZ+wquDRn5wL67LJoimGt9Ns7vD3rJlAUVXdTEY3RvWzVIVFRVlZWUlLVW4dvSA3RcRqIV3l1J9+y0+ZQxwZeZANRZCZUPEkiqmK8y7aVTITtqyK7NVzZ0IdVUkEjUj2QM7VJcL3bC9YamaUKFgsrFiifeyQmDEoNFlH02yGWTIbh0J6VAHWyMWi5ung4OdSFRkudBt4yBUtB1KJRsxlnhXNYwYNyy7OMkEEJ+IrBpkZ0Yiu+lisbgJOrzyClzAEC/42DyqJoN9oI0PS9aGSSX8RzDSMQSpInoF1klrQg+d78qVq1eu1miRSNQ8ZAztPCsmYhKxsAk82aVZNjdCqESpIG2YPLfoJOIdyKk+wq7CYJCJHuhKiLApFoubufWYSBfxqNBNcCA6aOgI8kTJStrk0adploIJPtRkkIkeu01VV67odqqqSiwWNwcr1UQiFsdHKEa4sLnhpFIQSxZ2eJrGqg6IqFw1hgwGVdOHFdLWII/gyqoqwyKRqOlKH8uXaiURK8gjDlnCUclCjc0cwMhOBknERYIkuna52HM898LB42cOZOeKxWIxu04SsVDMOBAwAVIAFhtJFo+s/xlG1VOz6oCopKwcx5y9WFBSWo7oya5bJBKJbkCACZACsAAvgAzThpF0SzgS0bwMRQuKPXYFIpFI1KACXgCZ6lmbmqYpEtHs7upVBFdAl32QSCQSNYIAGaCGFpIsJhGMDBJduXKFIqjScvsIkUgkagQBMhQcWYvb+HeLg0T0TtnB42dknUgkEjWqABmgBsBh+NziJBF0IDvXLi4SiUSNJqAGwGEeITKCrE8S2Vn0KDASiUQxEFCjsHPL/qOn9x09vf/IqX1HT+0/So/7jpwSGIlEohiIYARZPLrFX1ruLynzl9CjL1DmDZR6/aUCI5FIFAMBNZWV/PUMG0blPo1EHoGRSCSKiYCaCsDI4tEtFBBRZESPEhmJRKJYKjQyCoZFPmDIIpHASCQSxUYhkZEeEFku8fpKBEYikSgGIhhVVFZUQkEYVfPIV+LxBQRGIpEoBgJqyisgC0b+ktCwSCIjkUgUK6nICL4lZLWIwiKJjEQiUYzEkVE5eFQBGFnTNE9wtQh2C4xEIlFMBNSU0TzNgpE2RytFTMQWGIlEohiIIqNyREZkC0YhczRERn6BkUgkioGsyAg4qoRpzciCUfUcTaZpIpEoNrJgVMEztVuCczR6H83jpTmayyuRkUgkMlVYVPzJZ18tXfby6Clz73nwCSRef2cDMu3dUQmoKbVCI1jBqJTfR8MczR0VjHbt3pPUP61V64Q6PX7y9K3bPrcPE4lETUHAEBjEGEIaGFJUwqZdqP6iyKis3MIRrxkFF4x4jhZdZMSUeeW1N+o0igFb9mF16dq1a7/8+vuUGXPatO+MU2RkjThy9Jjb7Rk+esLyl1bZhUQiUWOKuYNHezsojpXC7opQHBnxTI1hVL1gBBJFDSOAxt6oVSiGwvZGrbp69eqra9b2SUn//ocfq6qqAKa9+/7KPn5CYCQSxUw//vIHcHM0+6S97RDzKLr4iGHEPArCSFswih8Y7fzx5y49+v72xy57OyiBkUgUGyH2MQIfQAdTM2N2hlkbcqJYP1IwojUj++OOgFFwwajY47sRGOERE7ELFy9xvlMRwgjNu/+hR2Ak7KygDBhdvJT3+JKliV163d4uERO6w0eOqjJPPv3c2rfexa5efQd89c0O/isDCLi2ffZFSlomlz956rRVjUgkMsVRj6IMR0nIBH30cImZFUVwBNSUlJbxspG9gA0S2TDy+V03BiNgKKl/GlwTjyKEUS3hj76roLBo3KRpy5avxBUBritXvQrK5OTkcpmk5IFHjh6rqKh4ceXqARlZFy5cBI+2bPssNSML073KysqVq18bO3FaYVER1ywSiXTxQrW9YUEHPEICGAJ9OM1CsShWjigysoauDiN7Aduapt0QjKDaedSwMPr08+0gzukcu8HADaCzfsMmLvP0s8sQByF/9597cVI8erze0eMnr1n7NkdJBw4eQty0Z99+62iRSBQiTL7AI3sjKCaRMS/j6Zu9EbEIRmVlwTWjMDC60TUjMAibNb1lFiGMSkpK5sy7D/OvqqoqOysoHUYIbZBGjrFLLwMpGAFbgBfSupHPxUQikS5jbYiFHGcQxBM3eyNiWTBSC9iO9/VvEEaKRLt278EmHpHP5kApQhhBmz74COA4cfKUvR2UDpqwkdEnWz+tCUYcGSF04nyRSFSLIp98hY2h6lQdMLrBBeyt2z5XJIKQxi42Z0YOIwBl7r33Dxs1/q8DB60/w331t993GW/tnzt/Pm3wMH3NCJvIrAlG/HGBlLRMTM1Qp98f2P7VNziSi4lEIl08+TLeJgOejBnZDS5gNxaM6lTkMIKAmHXrN4IdOKRN+85TZsxBEGSA5vz5CwsWPoy9MBLYRGZNMEIazHrz7XXdeiUjBzV/+PEWXlcSiUSGmDJGyGOsakPYRDGDWZGoRhjxHC2uYCQSiW6u1Nv59rZDznfWIpeCEWzDCL5BGGE6BgM0dbpeXwcRiUQ3Xbw4jUcj9sEmx0QRris51Sgw4qUihDyRWK0oiUSiJiFERoDOPdZnr0ElfkMNOXAUS0VK4WGkvgsSHYxEIlHzFuIgXi1iKiEBDEWxTqQrDIz0L6YJjEQiUWxkwMgKiwRGIpEo5nLAKPQr+wIjkUgUGwmMRCJRXKhGGPHvhwiMRCJRbMQwgssERiKR6CZKYCQSieJCAiORSBQXEhiJRKK4kMBIJBLFhQRGIpEoLiQwEolEcSGBkUgkigsJjEQiUVxIYCQSieJCAiORSBQXahQYfbL10+Ha3y/jP0+2+8+9yDd+5nH5S6vCZup/0SxrxNg/9+y9bunnX37DJjK79Ur+YedPXH9Y8Y/wcw382/uQOhf/pWx4ydLn1J82glBAFa5F/JP+bL5SVDJj9jx1ySxs4kR65utvvq2fzhAuvM6zo0wtl6AaFslViERxpZjCiDeRj73GaDEy1SHXrl3b/uXXGVkjzp0//9eBg2mDh+3d9xeodObsOYCJCzuFIYqxyrUh/fW/v0UCm+qv9R86fBSnMEYyFAmMUEbVA6FyvQa9zoaFEXcRzs6bqAdXEfYSVBmRqAkp3mGEdHGxa+jIsUij2jnz7ispKeEytQi1GRSAnKM0ChihMA5RJHKq8WDkbD8kMBI1GzUlGOXk5KZmZD31zPNFxXX/1C4Gth6/QEYzoChgVNNQRyWoyuUh+vBECQ2oCUb6efU0DkGchX5QszDrIJKzqaywlxC2hSJRnKuxYMQDUrca5PWC0dWrVz/avHXcpGmFRUXIP3zk6JgJU9u077xu/cY6/9oiNwMj3N4OngU1KxAodijXDiM9eEEa5bk2GFBAhTod+HR65VxYL6OnUSHKM7yQ1pmCTINrLP1wlsBI1EQV15ERRu/t7RKnzJhz8tRpzofAoJ0//oy9mz74yM6qVRjVsL1hCZUPGzUej2FHcu0wcg51DnZgVIUK9TqdBKkzMtJ7gCvkTb2YLme+s4UiUZNQXMOoFi6s37DJmMjUJCcRIB6xYUdyLSeFsNc4b2xgBBmxEks/nMWXZm+IRE1HTQlGCIj+OnDw2rVrHq/3vgcWrVn79vXr1+19oUJt/9r4AadRFb/prr/txQM77Eg2TuoUjoXtjahghIQiCzY5TONMVbMqoIQyep8gAQuMRM1GTQlGf+z6kz9klNil17MvLPd4QoIdQ2iDvkyDHD4FZ/KYjw5GEA7nelRVqIRhhDSfGvk4Y00w4gtEMYASZTgTh6iauVpDYS8Bh3MOZa6wD4/kKkSiuFIIjPYePrn3yMk9h07sPXRiz8ETuw8eh6OAkUgkEtVXITCqqKyEy8srYGzzDoGRSCSKgQRGIpEoLiQwEolEcaFGgdG1FQtjY/t8IpGo6UtgJBKJ4kKNAiORSCSqrwRGIpEoLiQwEolEcSGBkUgkigsJjEQiUVxIYCQSieJCAiORSBQXEhiJRKK4UCPCqLS84lxeUXbOBdQgFotj46PHT94UHztxKufsuWKX2x7/9Rca3ygwKimrOHr6/Klzly4Vuuk3knxisTgWBhcqqq7E3oGyco/Xf+bcBSCpsrLKBkF91CgwKiuvOAYSnc3zlZSVlFWWVVSJxeLYGDAycmLm8ooqf2n55fwi8MhmQX0UAqOG+nE1zM5OncsLlJYbbRWLxY3tmwgjNniE+Kio2GXjIGKFwKihfnYWYdHlYo/RRLFYHAPfdBjBoMfpM2dtHESsRoERVVpWYbRPLBbHwPEAI19J2bETp2wcRKzGgpHROLFYHBtHB6P9h46NnjI3rOctXPztzl+N8nUazbBxELEERmJxs3J0MAJxnnx+5QdbvnAau2CjfJ0WGInFLd3RwQgRELhjZLKRj71GZp0WGMXCP/+2a+jI8Xn5hUa+2Onnl6+cv3CRy+s38puQ3/94S9O6BIFRiCKEEZ5m2MjEIMdzbwz1I9knH1vyTIPfEGEbgPED3BiZup0wMuoJewlhXee5GtCqD8N2JprBf/3R2SE34rAw0vtHnVcvpjJxuDoEfY6c3v0GoP2ciaYaxRrExtOHszgvIWobz3hj3NgCoxA1CRg14ImMCwlbc1jHEkbqXLVcY9hnpMGtzoI2oFXoKCTQY5yJ5k2dOZd7D3s5E4/ceCQYDSiAvZwApxqwG1FhhE9fFDae8ZsII7VizetBAqMtq9es5Vc8PEnIwSO/1qlXPL5N9Uy+O3HgO+9t0HNgPM2co79+8s2qyigjx5mp3yt8IFfIZ1GNQT7frDgLzqXK8Hn5bkYLVQ6XVLedOjVOh6vgGpyN0a0uTZ3amYPauAO5V3nQ8uH62TkN68eyVcPYzlPomVw/akMC+EAZvmQUQKbqFr0ZMHeOflK2OrVK4CiUNA7XL0RZf9ac5nq4MerqkDCapxfj64WR0Mvwgeopw3k5U/UJrJ5xw3oZmE9R03PBzyOsGhy5I4SRWrHmd8oERlv4mcNzgLuZn0Kk8dyrZ4XtvAXxbPEtoo5FGmW4Et0ogKfZeFLDFjZOjVPwUbiN9NvRKAajmF4/n5HvVORzQr8EVd55Fch0GvkqWHDmqOZxbTv+sxO9ypnqEL2FOJYLcD43j20Uc54CmfpV4FiuDSdFAWzqNXAlxhOHqvQzslEAh3OTsBcJnBd9iGFvHM4nVZswStbSdTC3Ss9Rl4O0qlAVQ4V61xmXgDJMDXVevQHOcxlGAb5MNo5C7/Eh6lg8ckLvlsgdIYwM+giMqjsdzzc/ncatwDZuCFh/UlUaCbyYRPLkoQwKG5mqPWx1c6CwundhZwuNA/UC6kT6JajyquVG2rBRP6y3X52Oa+Bdehv0NKy3xOhY/URhT4G9/IrNRgGuAbvwiLTRVKN+JLiYKsBGPepcSHy2/Rse3sbhaJIePsDYhYapM2IXCnDbOFO1nAuw9UbyKXLOXoiku2B1rLoWlHTCCJlGS9gogKtQm3rlXDNfER/I5vLYhbQ6sBYLjEIUSxjxk6c/wdilnsKw1k+n7DwvP/0wh28qP2xJvhC2XgDNQHuQcN52SOhX4WySslE/rKqF1em4Nt6lt8E4XG+JXg+slwx7CqMqmGvDLm6/UUA/F2ycjo0cVK7K4HDV4SivdiFtPBHIx15nhbr1flDWG8ktvBEYcTP4VkFClQxrtBYXojb1yrlmVa0qU19HByNM2Wr6nBHyWy6MnFE3NpGp31LqSXXuglXNMHbhNUptwjhEv73Yxjip5Z5Ahcb9jcr1Y/UCqlrVTiT0yDzsVSBfDwFQxogI9PKoiscA18ZnxC5ug/NCkFaXj5J6zyCtNsOewmgnF0NtyOGz6DWovXwuWF2vsqpZ5ahDYOzi2pCZNXIcHlUxGLXBeo7TeiXKaIM6KVfCxbht2NR727gEdYHI4Us2CtRuVK43Rj9W1YzHOq+rFkcHo293/jpv4WJkOo38/YeOqZIRujnAiPP5dUZ/SpDmTD5EbapXS9w9KjDWbybO56PYONYYEkYD2KoZ6iz6KWB1Q6t8VQy7uAGMBq6Q24ySq9esrekqVEn9EmDVGJXvzOHr4jOqNugNYONEOB0fq3bpFwtz/zhPYZREMdSGrsNe7kDshbkkzHu5l/S02qtaAjsvjZuHQ3AtqhjMl6nnqOfCadSJmrmYahtqNg5UFWKSyF1nNI8boy4QR/ElG82rpSWwqpMvVu8TvWZVod7zETo6GDW4mxiMbsS4M3jA1Nf606+MqtSwZOMO4DuSN7FX3cdNyLhMHjBGfsysd2zUT1mcW79G3DCIHG9ih8M3DiPEQVF8/8OwwKghjVPwqxOs7jZxJAa4o35hb3LGBarIC77pwL1xGCEfe43M+roFwUgsFod1hDBq8BVrwwIjsbilO0IYNfiKtWGBkVjc0h0hjBrb8fLjatk5F/NdPqNxYrE4Bo4HGBUUu0/lnrFxELEaBUbn8gpPn8sz2icWi2PgeIBR7tkLBYVFNg4iVqPAqLS84mjOeeGRWBx733QYnbt4CWFRVVW9/3Rao8AIKimjP52Wc/5ygczXxOIY+mbByFdS5vL4EBOBRCUlpdevX7dZELEaC0ZQmfXnrYEk1CAWi2NjwOim+NiJU8DQ5fyCysrKa9eu2RSoj9D4xoKRSCSKvTCUb4rKy8uBIczOooiJWAIjkUgUFxIYiUSiuJDASCQSxYUERiKRKC4kMBKJRHEhgZFIJIoLCYxEIlFcSGAkEoniQgIjkUgUFxIYiUSiuJDASCQSxYUERiKRKC7UKDDa8tlXsL3x99+79uxf9fq79kY9hQPVT/NyJadyzjz4+LMut4cLNKBQ55LnVkRRs3G9jSe0DdeOHrC3LdXZbOxSv3aM5wKHv/DSGjzf9u7gE4Qc1KM/UziQ8+3tiIWjGqRDUA/aZm80tGp/1oxeUp3MvaTuSdW8mN0DzVjxCyN+1lU92Nz40VZ1c0DOQXWDUjecvR2xbuRGjHq8qQNrbzZ3I5dE+utvf8Aj+k0nGlfF+XMfeFy1B3ViVwP2cCTC2dXdEnXnRKLan7VaYKR6D4/qdfFG7gERK35hVOezKzDiA2tvdti9eoNVAR5moJXqVWTiLA3Yw5GoCcFIT9demygSxRRGeC55vjD17oX8FGIXh7t4pvWbXn+aDfFdcuTYCVRihMosFDB28Z305nvvq/MqoWFcEg3mYhiN+rGQs5HqFLgcHKWuF498ChRDYT6Kr12/IpVWZ9cvH/nYy5sowDXjLEhfystHSU6rAznT2WwlFNbrh/RToDwKIKG3Sj+pfqAqo6eRQP362XEUEjX1JyrnHDwjKIBinA+hDO/ibkQ9OJzvGW4khHy98zkTQn5N/YZMZyNRALE2ZxpVQXptEF8LHpGjekAvg9r4jKKoFVMY1ZQPGbvUc89pvh2Rg1aqO8C4XVjIxESD7xUcyCssXINePws5qgEQF+MctI1P52ykqpYzIc5Xh8BIIIf34nCkkaluYj2NvTjQKmgL9fO1c4KvkZuhdqGYOhCbzmZTRZrQAHQgl4HCNkBlokLVb9ir16YfqNLcNi7A4jrDNgwJZPIloFUqraTXhgQXgLlJMHeIURJCmZr6TW+2KoazqxcnpPWqIP1EkDoKOUgw1JBQBVADzGlRdIopjJDAU4hHzkcZflLZ+t2g3z0s3Ad8V6m7xLhdWKhcPzW3RN1Jdq6lsKdQxVTa2Uh1OUoos/DxZ9StiaO4qbyX2+lyedTp9FNzhVbBanEmjJdupLkZ2FStUmWQ0DP1tFM4BOa0s2f0VqFmPi8e1YVAehmVhjGqURuXgbhteuUqzeflYnoBJT41p7kePQ3rTwcO15unyjj7DVBTRzGDam8JCuDqVOWqgLpqpPXXJL02UXRqFBjh6Vf3E2RsIu28G5xCMX0vnnvkoJXqLjFuFxbOpR/Fp1B3kp1ryZmp56g018AFWGFzEI7h1lTHclN5L7ezXjDiHsMMBWVQ+c6ff8cmqlWtQhl1oJ6pp53S93KrULO6Fr1VSKMkGqBfCGSUUWkI9WCcc5O4bfrpVFo1W8/kTRZfO6f1wpzW9zrFe2vvNyUUUNfuLGDkqE39qvXG6LWJolOjwAhPlT5XwouSuqVY/Mwh0xmlKxkHYhNPPFqJanE36AkuwDJOraYbznsRQoXqZoL0YirtbKR+CpZxOWgSjlW3Jk7BaZXQa0Cm0TkQKsGlvfne+3yZCLuQ5nzVQnWgnqmnWUhv/Ggbp1GVIiZqxilQs7oQzlGbfF5nD4e9Chbag71IcNv0xqg08pHgOlGP8wZQlUDqGlXaeVJdqCpsv2ETJ1XPCAubekvUSVnGIdjLBZCveonLcAtRUq8fBZxdJ6pdjQIjCM+QiorVk4QE5+g3gSqmbjsl3Fu4WY0C6mnmW8F5oH5q3qVGAhdQUjXAaIleTE87G6lOwWMJBWCVj0dkqparuxwt55VXEAGV8w3Nh2CTO0QJR3Gd3Eg+r94qdaBa1TYKKKn2qyUSFvJRWJ0XCTXMWGiDXoDlvApuCazIggO5E8I2DHu5vHMBG8Im6uGmcj2cr9LqdDB3kS4Uc/YbxNXyUcjHXhTD9fK1cA6XVHIegkw86r2E+vmqVSdz4SPHTgiM6qvGgpFIVKcwpGXEipQERqKbJhXFiESQwEgUU6lZHgwY2bkikcBIJBLFiQRGIpEoLiQwEolEcSGBkUgkiguFwOjwybPk42fgQ8dzD2bnHMzOFRiJRKIYSCIjkUgUFxIYiUSiuJDASCQSxYUERiKRKC4kMBKJRHEhgZFIJIoLCYxEIlFcSGAkEoniQgIjkUgUFxIYiUSiuJDASCQSxYUERiKRKC4UEYyO514Ui8XiRrVERiKRKC4kMBKJRHEhgZFIJIoLCYxEIlFcSGAkEoniQgIjkUgUFxIYiUSiuJDASCQSxYUERiKRKC4kMBKJRHEhgZFIJIoLCYxEIlFcSGAkEoniQgIjkUgUFxIYiUSiuJDASCQSxYUERiKRKC4kMBKJRHEhgZFIJIoLxQ5Gr7z2BmxviEQiUagaBUa7du9J6p/WqnUCe+u2z5E5fvJ0GAkgSe1CDu8ViUQtXI0CI6YMh0LwhYuXkKlghE21CznAlnWQSCRq0WosGAE09kZQCka6UAyF7Y1wqqys3P7l11kjxqJYYpdeCx585Pz5C/a+m6Ftn32RmpGVkxOmT5a/tGr46Alut8ferkHXrl375dffp8yY06Z9Z1xUn5T01954q6qqqrjYNXHKzFfXrL169apdNCjUiZpRv71tCZv3P/RIWXm5vR1OkTRp95970Qw2moSGff/Dj+h2e3dkCttCkaheCoHR4ZNnycfPwIeO5x7MzjmYnXsTYYQh8c8VLw8bNf6vAwcxhv3+wGuvv4nRe/RYtl0i5tJhVFBQ+MBDj372xZe8K5KRD9AAN7gEDHgA6Pr163mXL2/99POKigoDRp9+vn3efQu5thjACI9Io0kAZdrgYY8ufqq0tJQLRKKaYGR0kUhUi0JgVFFZCZeXV8DY5h03DiN9/QjW52W1w+inX37t0qMvSGRvW3h65PEn585/oF5DpZF0Oic3KXngJ1s/5c1IRv7X//62V98BR44es7drll5bzGDEQoej29FUezsC1QQjo4tEoloUCxhduHhJ8chYIaoFRniVfnzJ0jnz7ispKbGzLO388WcMFQRHPACefnbZuvUbMYOD1771LlqOMog4fv7lN57c4fHPPXuRw+WffPo5FENhQOGrb3Ygn6uFEJKgNnXGb/797e3tEnmU5p45m5KWiTTGFUYXxhiPYfuirBwMxaEjxyKiyRgyAgcufvJpg5jYBEZxCudEDFLjGXwBZVTlyAk71LHJMDIGvGohl8GBO779DzcJodbFS3lcTMkJI1w+OoHbGbYnEaVu/+obdAgy8Qi26i08eeo0Mle9+vofu/7kS4C5SagQB3Jt3Xolv/n2On6+uM3YhdgQu/B4+MhRqy2iFqRYwAhiHhkkgmqBEQ8JYwRCavDwAABWMFowPPCINI/J3/7YhZsbObj7N2/Z1i91EEYCl0c+Bg+mRS+uXD0gI+vChYtcLQsAUsMGoxEnev3Nt5EPAg4eOio/v0Af6nhEWlEATUV5kA6V//jzLwmduqM23sXC4ajko81b7e1QGcRhjiBT7ULlhiOBERgELuAJxXxw3KRpzmDKCSOmIZcM25MHDh7C1f17x3fI3P/XAfXCgNMVFBbhLA89sphBrLcNFNuy7TNMcnEIni8cBWbxtBQF0IaFix4LBEpgJMZOnFZYVGQ1R9RSFCMYQfyemqFaYOTz+ydPn60Gp5IBI0RPiKGQj0u474FFGAY+nw+PmM3xKixwA+ggYOHyKjBxDkLo3PnzGCFAj8vlvvueBWgej8mVq1/jE+lD3aAAmqroVlzsQpRkNJ5bosrzCIS5QjWeeS8S2EQm0sYuFjYjgZEOXHAQNEGUx5ssZz8oGHm83rA9yTB671+bVOjHLXxu2YsrXn4FMAKSOF9vG2obPX4yCqhoFKBXiEeFqJbzQUAwdM++/bwpaiGKHYzCqhYY8TQNfEHb7CxLIAVmWJgLGENUDaG8y/nI53GujNvdKB8WRlwJBsxfBw4ueuyJg4cOY/xkHz+BGI3DHH2oGxRAzai/FnwwXpctX6nPDVWFxiF11oZNNLVOGKlKjF1Kzn7gdqITQGQcrvqQjUpA822ffYFnoU37zs//cwViGW5h8oBBmEEjYrIrCu0iQBAoVO2EVHuMhoV9akTNXo0CI56RATR1uvbPGX39729rWcDmAaAiHZ7WgV+BQACv586lGWNI13THr9+wCUNx5apXkcCwnDJjzocfb8GsgYeKPmz0kQbViQ8wCJO4tMHDEH/ZWQ0BIx7kavantxBlOPTgXbgiPVBiOfuBcc+T2bA9yUImuIOp8aYPPuIWIjLClBBn37N3H5fRuyhsZDRy7EQgDwV4HZDz0QA9UBK1EDUKjLZu+xyI4RfSOr1r9x77MIdAHAwG46391IwshEXYywMAs6r9fx3AwNi8ZVu7Dl1++uVX7MLrNr9EIx/XgqAGI8EY0jXBCEOiR5+U7kn9MRgwbDB4MOFS79/pQ50p8Pa69WgbNuvEB8RXNHHKzFOnc3AUmvfWu+vDwggTw4whIxgcYWvDJsOIAxmEkIhQeGFIhxGu8V8b3wfEc3JyUSECGYMsej+gr7Z/9Q1IhA5kZITtSVR+8NARFDiWfRznUjDC6fgC8aTwc6R3EbOYny+1ZoQc5KNX0QbEjLgP+RLi5A1TUSzVKDAyhAhIhT9IYPrD6UiEUQS0ZWSNwM2KF2EEPur9IB4Ajy5+CgMM8wUMIQwk5gJGDkYR7nUc1a1X8mtvvIVBawzpmmDEYxu8wKjDJl6lUQwxBe/VYYSzrFu/EafmhRjUjPpxFuwKiw8W+hahFl8R3CclfeGixwoKCo1DcnLPjJkwFQVApbC1YZNhhPSeffvV+2XI12EEkgJGPKV65vnlHo89ZVPifmCjrxY/+bT+sdKwPYmgSeXwO2J6C3kNm1eOjC7iZ5OPxSPSvBqFXkUL/7XxA76KBQsfRodY5xe1IDU6jC5cvIQ7DzziTSSwGXYxu76qZcCLmpZ0xItarBodRkwfRENIwEjobLoRCYyajQRGIqjRYRR28cj5vZAoJDBqNhIYiaBGh5FIJBJFIoGRSCSKCwmMRCJRXEhgJBKJ4kICI5FIFBcSGIlEoriQwEgkEsWFBEYikSguJDASiURxIYGRSCSKCwmM4kWerkmwvSEStTwJjG6aPD36ebr1sd29Lxk5Pfp5eybb7tXf22eAN3WQb/Bw+xiRqPkqRjC6eiqHfDo3xDkRmEvS4afJJ0+ROc0VcrHcM1fPnDWNTOUzZ6+dO3/twsVrFy9dy7t8Lb/gWmHhtaLi6y73dY/3us93PRC4XlJ6vazsekXF31eu/H316t/Xr1e74QTKEH0QB3Xp7ency9OphyexO7ljtxB36EaZd/WkYl2TbDb1TiEnWQanktMJVWlZvkHDfJkjfENH+0aM84+e6B83xT6ZSNR01Igwqvruh4oN75e9tLrk0SdKHnqs5MFHyQsfIT/wcMn9i8gLHiLf92Bg/sLAvQ8E7rk/MG9BYG7Qd98X9PxQ30fFUHj+Qjoc9aBOnGLR4yUPL6bTPbqk5LEnSx9/qnTx0tInni5d8nTpU8+WPrOs9PnlZctXlq18peyVNeWvrS1f+3b52++Vv7cB7ax4/6OKj7dUbPm08tMvKr/4qvLrHZU7vsMlVP3wY9WPP1f9/GvVL79V/fbHlT92X9m958qfe6/s3X9l/4ErBw5eOXT46uGjV49mX80+fvXESaIkEAn2nb9A4Lucf62oCMjzJKUi9nF36e1O7O7u2M0N1rTv6mnfJWikQ20VcCd0dt95FxymJIAFkAFnFq3IYBzHVkBV34HeFHBqCKIqQMo/crx/7CT/hGkhHjsZ5AK/fEPH+IaM9GUMQ3nQjRgH0vVOodpQLU4BLKIxaEnbRHebGtyuE5pnP/ciUf3VKDDCQC1//a3AjLm43X3Dx9LrNm50OH1oiPGSTh7iHZjpHTCYjJEAp4SaM2Euw8YhAzNpsJG5niyqk0+EM2IQIljAGMsaRSEDxtuwMWgMDUvEDmMm0eAcN8U/fqp/4nTypBn+yTP8U2b6p84KTJ1NnjYnMP3uwMy5gdn3BObcSwQEH0HAex8APW0IgqogrAZBm4DA39LnSp9+ofTZZe72XV1tEl23t3e17uC6oyOlMaQxsAEauH0XFCD0sPXgiCMmDpp4r00iopJ9uG6bWVZtfDhoxagCoRBSgTL9M+wu5d5GGjnI75dG/AKD+qQGjXTQ2AWjjF4MyEOwhkAPzMIckyebPM1EPqzCtwGD6dkZNMy+P0SicGp4GCGywBDFUKfbHfeufvdbELHxoVOJbTOF+UJm4pD5WJipxGZUKfOJDKvCxtkVswAsw6BY1EaFzEHLrtvudLVq6/p/rYv/7+1spF3/cwcZ+be2owJ3dCQwcaRjWMEITGErMAWpxAyqDlhQm2HsatcJxegorgpTP46n2BxV6daXsfSVLEaMog/M801Y1aabq8KxDCZmE54msAlPd9YovDDYN41I1OAwqvr2e0ygEI/Q6yfTAfcf7kVe6UAaeOLXZwUIZQUOwwZWdPOBilnKtVQYeojNJif+DPNRulEVWqXHFLhAXKY1XNmEof++rfi/bw3n26rZ9L9tbDYhegoGTRTj6DxiM6Q4SrKRFOSRjqTWHdy3t3ffdqf71nbuf1hGApvIVEYZmIGFQ3AsYwtWDTCCLKYYHg0rVho2ijGemFCc6N7X5hTfLRxAgeMIZoeN8Y+aYN9VopahhoRR1e+7MGHBnIjGJ8Zq7xR75OBGxE0cvP/sl1m1EMtjWBl3p7JeBlZzB9y7bJyI6caAY/Ombi7mNFeCAgxHYpMVNCE+osmdNa0bNYHmdJjQTZhG8zhM4jB3mzWP5m54xCRuxlzKmTobu2iWhzLWjM91ewKHRTZxTDAF0/91a/H/+Qc9gk0cMeHAtonEJmz+A5vtMbOzcaOsw8JJJQCFwQTQMJhuT7DZ5DTy2ShjWwOWohWbmVW7mWjWEhLdAE4q4WbQQzM2Z2IvyjN5keiaRLdB/wx6UoaOtu8zUTNVRDA6nnuxTud8/s2FBxdfHjS8sEdyQdKAwi5JRe06Fyb2KLyrV2HXPoXd+yK/sGf/gl4pBb1TC/oMKOg7sKBfGhkJGDlwkmUUgJFADgokpxf0yyhIzihIGVSQOjh/QGb+wKz89GE4V/7gEfmZoy5njbk8bOzlEeMvj5wA542aSB49Cb48evLlMVPIY6eSx9nOUx4/LW/ijEtTZl+aec+luxdcvOfBi/c/fOGhxRceferCE8+eX/rC+edWnFu26uxLr55b9cbZNW+fXfvemXc2nFn/Ye6Gj3I3fmwbac0F3fsVduhW1LZT4e3ti25LgFWi6NY7i1q1Kf6fO4r++7ai/7oVadrbukPhHR2ty0zDheenDUWTCrokFdzVk9ypZ2H7LlYZKoZqqeY7OhaDU//bBo/F/2hXfOudxbcmFN+WUIwTte5QdEeHojYdi9ok0iPSyGndAbvIKMNG+TqMOoPGKaqNM7KdmcFN/SgkcOHUpMTidncV3dm5qEPXoLuRO3aH6VaBcbGGOZ93de1D909yOt0D6cOMO1Dc1B0RjMoqqmp3YMtnviee9g4f5+470N0/w5OU4k7o6sbLXa/+yPEMHeMdM9kzYbp38kzvtDneWfO8d8/3zrvfd+9C8j0PeOct8M69zztnvnf2vd7Z93hnzuUytPf+h72Ith57yrfkWd8zy/wvrPCtWO1/da3/zXWB9Zv8H2wObP088OW/S777oeTn30p+312yaw95996S3ftK/txXsmc/ee9flg+U7jtI3n+o9K/D5AOHSw8eKT10tOTo8ZLskyUnTpeePlOae6703MXSi5fK8vLL8gvLCotLi92lLm+px1fqC5QFSstKy8vKK40eUEZTPUNGuTv1oB5o343MiY7dilt3IHy0SXR17uUeOMQ9ZnJg23ZchW/lq7g67wOP4Ko9E6dTR6G7Jk73TpnlGTvFkzXaO2qi7/Gn/O+sL9nxH2rwpTzvosUe9Ay6jg8ZNtYzcAh1e5feOJ0LEU2rttrsjIIdWj7XXB3+hLEKkTSrAErZKBBiqodW62HzjLSX8hH9tbvLdWdndwJiOquLOljuaDmxOxndeFdPuqiuSe5ufarNK1lJqXSzpWV5Mkfi3jOeCHGT843CCOPf//yLGC2ewSPo5khOd/dLo5sJ8XaPfu7UQf617wa+/8k4qrk68PFWENMzeQZdeyiJaBxiujH/Qd/ipdWHlJQDeSXHTxExf/k98P2PgU+/DGz4wP/a2sC6Df5NH4G5hKqVr/hXv+5/453Ae5sCmz8N/PBTyZFsYmVZRXVVmr2jJ3kGDcdz4emZTMPYIqOrbacgDixSMCOC7+5Z7sR0MI1MwyhZi9thFtmFKv+fO9z/24aYaJGLcnAutsapWlvVCQ2o7kNcCIOpe18yqIQ0cix7evcnIg8ba/SGuKn4hmCEeASv2Ah8PH0GwBhsFBnxCxpeu5JS/P9caRzSjF16Krfk39+BI96Fj1KQyDCyXuoxtNAb6CvjEMOlXn/Z5QKKy3LOgjWIyMr8JWVFLmxS+AZgWXEfxXSnz5TlFxmHx5W9Dz6GIJciu0HD6d64qydRBnhCyGbHa8HPOihXs0kPssi0i/EEFDKemE2IMRlPjCSEUZ16EJWyRhvtEce/bwhGvqdfwJQEzz1FQwiYEQ5g7DGJevfHvWiUb97GVA6TwcAnn/mWv4w5Jl6licsYNhhd3ftiWmqUj84AFk0b3T7ilGNvPJtm3JhUjpuKWRVF0F16I/AhMCF6AqHUvFK5xsmgRTGOsPToCXhiNvEdOHSM0QBxnDt6GGFCQdMBvOiBRAiIcAdg7OFWwH3Qq7935tzAVzuMQ5q9Sy9cKvn5N1oGeup575RZNI+4tR1CA98jS4ySYti7aDHmrbRQOHkmLZMhxM4YSq9qeHnDjURz2wTH4ldYB4Ms4AlgsnhEb9rKQlKTcvQw8j//IkXgSSnulAwikbVIBAzhTsIdFtj+jVG+hZgWwr/5zr/mTRpmGGCTZxgFxJGb3u4YMd49YDCwTktROph0NvGmlUMTvYQuxKPE7p6eyTjcqFMctw6B0eGTZ8nHz8CHjucezM45mJ0bFkaBz7/2TJhOARGvkoJEPZMBJtw9/jfXGYVblEuLPSV/7qP3+DZ8YOwS36C9IyfQe2eIm/gNgbAzO/Dojo40a7NiKxQ2KhHHraOMjHwvv4aZP71zj1cthEXd+mC+hljAKNZCXeQyc8QNbc/4aZ6s0Z6BmcQm/hyAFjTRrK1tIq1nt+/mTh1kHCuOT0cLoyXP0GsU5mj90igexg2RkhFYt8EoJhbH0rTkBCQFeUSE6tANd6lRTByfjhZG9zxAC419BhCPMEdDIi0rsG27UUwsjqW9oyfZMOLFI/50UpfeRjFxfDpKGHln3E3vo/UdSDM1TM6T071jJgf+s9MoJhbH0t5Z8+jjAhaM6C22OztTcNS+m1FMHJ+OFkbT59gw6plMMEKUNEneNhLffNNbaQKjpuloYTTNglG/tGoYjZ9mlBGLY2+amgmMmqajgVFg6xf0ib6+AwlGmKZ1TSIYjZ1iFBOLY2zv1Nn0lj9/+EjBqIPAqGk42sho3v3uFF7ATqXP4CenezKGBj7eahQTi2Np78gJtIDNJOIF7A70nW2jmDg+HS2MFj1u/2ZFvzT6nFHfgdj0v/GOUUwsjqXp+4C3Akb2t/8pLEroguDdKCaOT0cJI9+SZz0Zw2iO1p++C0J/+mJgpm/p80YxsTiWpo/gKhi1oQ890pdI5EOPTcTRwujFVfSDXj360RfTuibRMnZKhnfWPKOYWBwz02/R9RlgrV5bMGqb6O7cC0jyDB5hlBTHp6OEkf+tdfRbEPyGGuKjbn1oCUne3RffJHuGjqEVIgqLrB8/guWttKbmKGEEe2ffS3M0/twjw2jcVL3AT7/+0ap1guHeyQNfWvWaXkwsvhFTQJSUEvyWrL1aBNPSNfDUrY9RXhy3vgEYzbibYITIqLcNI+/oSXoBcGfsxGlAD6wwtPDhx5EWHolv3PbvRtyeECSRFRPxj0YiLLqrJ2ZqnoGZxlHiuHWUMAq8+y/v5Jn0e338U1iAUf8M78gJehkdOqASzGlmk/BIHJ3ph6JGTaT1yn+E/Ek4+4dr+fdDOvcCj+T3Q5qWo4SR/531nskzCEaYnSFIZhiF/pCVkzgIjmAkIuTRz7/tQjF2m/adJ02b/c2O772N9nOrR7JP9u434P2Ptxj59TU3G4/OTMOTp9+947udnB46cnxefiHOrvYm9U977Y233d6AXk+LNX0DadhYCoXAGsYQkyj4qSKCUdtO9M3YTj0oMurUw3h1FMe5bwxGmKalDiIYde9LMAr9lU8MJ4UbJD7cvI3NOZivMZhqsT6qfYHS/+z8ecCgoYseXVLs9urFGsqNCiPdgdLylavXdOzSi8vgjDgvzq6nS8sr9x843H/g4FdffwtpdWzLsXfG3d7REz2DhhOAOveyp2O61SIRYSiRVohQrEM3IIl+6k9+k7+pOVoYrX4dcRB9AnvgEHrieyYTjKbP0cvoMNKnaWwOjvQcp52jeteefZ279/2scX7TNmYwwi6QaNmKVaASNsPCCGkw6NkXVkycOqugZfxam3fe/Z5JMzxDRtMnaTHPwoTLJg7FPkHzVz2C0RD9Jn8nwpD1d0GYR7gnjZrFTcLRwuj5FfQ7e0mp9HNW3fpQcJSc7n3gEb2MDiO2mqbB0cGoyOWZefe9S5Y+j2GMsfrDz7+OmzT99naJGNtPPbvsckEh8rEXZVAS5T/f/g32cg3HTpxGoIE0D/gPNm8dP2kG9t57/0MX8/JRQIcR6tn62ZeZw8egAV17Jqvp0tnzlx5+/EmcDvk4/OjxU8iE9+4/iE1kpmUOX/7SaqPZui8XFGG+OXLspHMX8jinJhgZ19JcTX8yZMgo3EUU3YA+IaCxjAQvSyOTjXSbRPqCPv9FEJAo0fqxR8fCpbgJOUoY0V80RfzcL41g1KU3feAoOd339At6GQxIBSMkjGladDByef3zFy6CkQCJMG63f/1tSVnFqdxzYyZMxdQP+QAQj2cezKhh9Zq1OHbHdz9kZI0ETTDgkfncP18CX/46eASFuYCCETAHVKWkD/njz72onKdLmFihwj37DqIeJHLPXQBQuCUnTudi/ogoptjju5B3GXQzmq2Mmt95byMIiEpUZlgY4by4wO5J/T/a8qkq2ZxMa0CZI2m18R/BDwepPz3EDFLWYYTHdndRBIQ4qEvwb6V1TaK1S5mXNXFHC6PZ99D3gFIH0QfwrZ8QwcTe/1bIT/FjQCoYNdQ0TcEI8cUDDz3GLOBdYBBmcAAH0AB2YLRfulwwa+58nIiLLV/5CoIaX6AUA55L6hUioWCEygEaTKPUYg1oxSDjTfbzy1fyqvPHWz9TNIEBkZpgtO+vQ916Jz+yeKm+DG/ACMeycRUgEcCnSjYDeyfPpJcx4AMM4h+rtqZaoQ4CqLX992Yp587OdhyEY4Ew6w83cmzuHT3ROIu4KTpaGNEfKcyEaXHRWr0GlUq++U4vg+GkYMS+8WlaQZFr4tRZwEReQSF4ARyoXaow8wVldu3Zh1jpz71/oeSBQ0cx3wGwUFIf/GFhhAld35QMJFTl6hAEPmvefBdzw6T+aTgdwwiY4wQXdjabXez2ImgCYo4GscXW26Onm5PpB7AyhtHrVo0MsgCk0YdmYdZ37umo7n1padL6Q1j0URL6YnamhELNzDXCqLSsHK4JRr4FizxpWRQZJafTy1RyuvP3jDAgFYwwjUIaaLjBaRrinZ59UhFfeHwBZ2SkhvHb6/4FZi1/aTUS4NekabM3vP/x6PFTnQM+LIzCRkbDR084nXt29j0LADXQCuVVZLTxg82p6UNO5ZzlwmiJE0Y89WvXoYtz2tX8YER/4HvWPP7b1vZ7YdZSNDGIZl46gzoxgwhDag2oWx9CT1IKHWu9Y4uXOnqrZNBwz9Ax8tfomqsZRkye+sDo8ac8g0cQg9KH8qsWvQPSva93+Dj/q7T+AisY6d8LQZr31hdGbm9g62dfgkQYzMyIz6x5mb5mpKY/mIJ1T+qPCdHuvftRGFgZMmIMOMKfCagTRjjk1dffQgijrxkhJ88Kxx594mmchc/IMELYhXMhPkJ+7rkLyFfNVkY0hEoQGTk/l9DUYeS77yFCz/hp9EYY2NGlN/hCf9RMf/fdySAYGKJ16K4If+gvgCal0l1kRdn0t2eAnmFjCT0Tp3unzPLOuNs4r7iZ2QGjishg9NIrmKjTglFKBk3W+Iv7YFOv/u5OPbAXZTAgGUbMHYxelaMyOV2TGUbsrj2TH1n81MnTZ9ReYOLb73eqN7wAi2KPj3fxbG78pBmIcbCJeAplECXx3jphhHxgBUEc8IED8Yg0cgCpT7/4GkBs077zsy+sQHsYRsj/zw8/pWUOv71d4px770cNOEqHkS9Q+viTzyDTMM773c6fOc1VxTmM6NPP0+cQIIZYf7MMwctdPW308EcQg+/E8xteZMKQg0Tt7qIpWOde1QxKHUQAYvpMnkEfMrp7vnF2cfN2CIwqK6sihBHse+Jp+yMhFpJo5QhISkolHnXohlv2n//T+nVr0VpxB48KT2MnTuNMcXza9+iTvnsXeqfOpr/jmj6UkFETd6xJlv2GF5sxpJOo3V20As0TsS69LQZZv8wHBmH+NWwshT+z7zXaIG5RDgMj5lGdMILpU2oZw+g27Y/4yPrhR36DIykFd9v5OzocubMzoiSGkXrEgSBR7+SBasomjh97Z86l15jufYkdijsKOgwaGzGhDsm36WMBqCsFQZ16cPhsM8gKqD1Dx3gmgEH3GG0Qt0yHh1FZZDDyv/KGd858+sSa9dY+vcr1tv6MWve+dM/xrK1L76ODht/Tqg1IBKsFbHH8GJMvQIE+qwFkAEDV73ZZWLFtbIYa6LFjn64U+/BbYLwO3bs/vTjxXIwZlDXaM34aqGc0Q9zCfUMwggP/et/3yBIKs3GT9RlAVAKDgKSuSdasjd4QoZi8zwCKocZO8d3zgH/VGqMS8U2x9+759Av2/dIIIoiA+JOH1cRh+ugAMmFkv/vOnz8MvgVmhcaWcT/gJYp/2gGB85DRnnFTZR1aXJPDwKi8PjBi+/+50jt8nDVTs25B9W1+XtjGSyJy+qURklCgV3+i0kpa5BbH3vSBVcyPevUHeqwpmLXYbPMluNZjhkXgTnC2pYc8/IQCQHhOkcOPeCnCc52WhZCZ1psQBE2dLetB4jpdI4yYRxHCCKb31+YtoAgcSKJ7lKZp9JIIGIXevrTajXAJ6XFTfctfDjTOt17FuumDP5Nn0scOEbFab7rbQRDmVmAN0KMWni0GUchT/Xmf4DvuQIz1WoJ8ek75u6m8GISnGy8/g4bT16cnTpcpmDgKKxgBPjcEIzaFSHfPp1kbvf+SQuhJHWTTh18/MWWzZm2Uzzf34BG++x/2L3/Zv/FDozbxDRovD95RE9H5gE7IRIwYZIU/2IQpMrIY1N56qwtk4WdN0ad7X6IPoweQ4lcXREDWB80w/zLOKxZH4TpgBNcLRmxMwbxz76OFbdysKiCy5m60yI00f06y70D6WIC1zGTRKhVzPd8zy0q+/d6oUBy5fY8soe9eDBpOyACA+GOH4A4HQYpBehzUsRvhhr5jYX3f0Ipb+TmiVw488vcwrBDJOJ1Y3FAGapg5QRhVVgFG+rJRFDBi+x57ij6Vi4kbZgdWHET0sd5SoY/Y4iWXoyTc4oARfd4/k9iEV+OxU/yr1pT8O+SbbuI67X3wMfQ2BUH6SpAKgrBZzaBOtGjduRdFPZhKpw+lJwivHHhSgCFedU7JMOoXixvVdcKoftM0w/6336OJ28NP0KLpuKm0bjpoOL3vZtlGD6ZvPfrZYT821cDIGo0X+cB7m4w6xU77Fi/FbBegoYlYdRBkLAZZAOrQjZZ46FfxMj0ZQ+lZAIwQq6LnOSdzpFG5WBwbWzDSp2kEowq4rBxZ5aX1XDOqxf5X3vA//yJ9ThKxEpCE+x5Ox3gYQlSyhgRPB/CabI2TIRRD9R3onTyTv18iDmtMymhGBgwhAlIL0kwfbPJnf4IrQWAWfcaCv+SMKBUB6aDhmB17x0w2qhWLY2yCEWhkkeeWwyfP2j5x5tCJ3EPHcw9m5zQUjJS9DzzimTidPnUyZJRtGiEWfYAkK1Ci6QOCo7QsmuLxnG78NN+z//R/sNmorSWbvp4Kdt92J8U+akmIIyDr7TDqRiL7MMQ79AJA6M8kJCHH+vq7UaFYfBMN1JRYvx9CMKqsQmRkfnG/wWHEpk/9Tp5Bn0PBOIHBI2u0VC9e8FtvPKEYNJyGEDJ7JnsmzfAtfb6Fv/WGHqD3B25tZ2CIGJTYnYBOb3Ix5Ydx+KkiIPn9DXF8miIjizmATxBGoR/CbiQYKXvn3kfv/oybSoOHp2/8ng6/r9zb+hydvcZB44qiJ7zgY94xdorv8acC6zYYFTZ7e2fOpY8L3W79/qGalFk/xkoY4jiIGYTHrNH0NzYmTjcqEYvjzQpG1ppRVZXz3f3GhpEy/TYFhg3GD68lpWXRWhKiJOsjlPZyEjbxIo8XfFCpH/2CEgIB74jxmPr5V60JbNtu1NnMTN9iTUqpnpeBQa07MIbog4j2kpC1GAcGIQiaJEGQuMmYYcTkoQVs7Q01aw27rPzwybPllVeMwxrPtA7CURIjiaYY9I4PffgFgZKiEuIjjpXArCCVKJhSgdWAwfRR4AceoQ95b27yv2nvffgJXGzwk9PWpAwJ/gsZXeg3yNW6m2cIYcg4XCyOcwMyFPdYC0aAj4JRyLIRSpQ7jmxs08e4J8+g77sxjxhMIVSywGR96YSoZJWhvbD10UrAyJropdCH9wZmeufM9z32FH3Oe+27xrni3+gK+u7F7Qn8Jr39ax5tO7k7dKNpLDrHiiKRQI8Zx4rFTcKAzF/HcgAcJs8tVVVXjGUjODv3Av/M602xd/JM+roTxpttaxIHKvGXFWgGF6RSX+v3khlGlm1IIWRAef6QN69ADR7hnXe//58rA+vj/UNM3rn3EVj5U9QgEf1efQJhiOdluEZryZ+udNhY41ixuAkZkNmfncPMAXysNSNt2chaOSq/mF987lJBZdVV4+BYmj4zOXG6/ZU3ZZ6OgTsAjfXxbmJTH+tnKywzqmgXhit9SsBiGb9hx2ACyLJGM61o7TxrNC0/jZ5EP+6DuGzaHO/MuYjR6LdWH3yMfvlwybP+55YjvDKa1xj2TpmFdmI6BvpwKMSRUfW8DJEgR38Zw+Rv9YibtIEXQGbfkdNWYETksRewg8tG9NFHnqkhOCp2+28uj9j2D78PHUOLI7atT3IDSRwWaZGRbY6JOIZiVAWDppADq4vZX+il0APDnr+b3rEbBSPWT8fbHxZHPdbMyDNkFMVuY6cQv6xfbga8fAsWgV/eh5/wPf4UEOZ7Zpn/+RWgmO+lV3wr4VeN62LzR9Ux1aI3y4I/6kpG+tZ2FBB1DL5fhqvmjywOHWNUIhY3LQMswAsg8+fBEzRHs8hzS9WVK5ipgUShM7Vyry+AokAXQilM7WK5nl2T6X0l/uIbw4hDpLDGLjbSgI49uQvO7PR4CsMbSDKIpmpmWoFoPNfjL9ZZpuVz3Ypiid0thHWhJWdrkkWRDojGf4sZBuMYc0w62GIQleRJGWOIAqKuVK2FP26VYEjcpA2MACZACsACvAAyew6d4DkaTdNAoipzpkbBEUogPrpYUJydc/5Adm5c+cKE6ReHj8vLGJ6Xmnm5/6DL/TMuJ5Pz+6ZdTkq1PIDcZyBMmUgkDcjvlZLfIzm/e3JB977V7tan2sHM/O79gqby2qaVg0rgnv3JqLN3arWRo07RtU9B514Fd/UqSOxR2KFbYfuuhQldCu/sXNSuc1HbuwrbJha26Vh4R8ei1h34sei29sW3tiv+R9ui2zsUtetU0LE7assbkIn2I3E5ZfClIaONfhCLm6KBFICF39Hfe+iEFRZZMLpyhRawgzM1ek9NBUdl1oeR4EBJKdsfKIF9fvvR5w94fX7gzUOPfo/XjwTs9vo8ZCvH63d7fGRvo9s1c55rwlT30NHuAZmu5DRy/3QKc7CZNsQ1cAgSdsSUOsiVkkEF+qW5+gx0JaW6evd39UzmMMeFeCT4qHKqNxEW9eiHwuReyXQgOYWcNMByqm3OxPwO5bsmuTr3cnXq4erQzdW+q+vOu+iteg6dbm/v4p+gbtfJ1aGrq0tvqiQ9i9qM5iEmwhU5LlYsvgm2xrIa2hjmyORRj02CgAUEJAAHBQrmhsIIU4Xf0UdkRGGRRR57msbvqQWDIzsyIluHlZSWqYq4UjoHnYbO56VHnJ5sNYUdsJvLDXU45Aob2q4Zc92TZ7nGTXGNHOcaMgqj2p06GDCiET5omGvwcFfmCNuDR5Iz+XEE7c0YSuUJW4NtYPVNIzpYWAF9iCxgE+ACajBf2Hf1JCMHxi4YZWAU5pJcuGN3Ik57TNA6E5JgzOmQg2OBLZwUzQCGcGqcFw0bP8W4OrE4ZjaGbbWt0c3c0RhkocDCAsEhyCCdRPZPqVlhEQwY0SwNKKqssmEUEhyFTtZAL8UjerQS/kAwSrJjpWoqKTCRrZZZDb2Zdk+b4x43xT1ivGvISHfmCNuDh7vTs9zgjjI2dWcMdQ8aRkZJ6xBCAzyk2nY9KIPyqIHe7KPFLFfKIFd/gCzd1S/d1Xegq88Ad1Kq7d4phlGG2McnAjFxFA7PHOkeO9m4ELH4ppuGszWu1TC3R70FASQUFixbDLL+mn41ieg7+oQXQGbP4ZMcGRGMrly5GgyOgitHOpI0HjGSuFJ2NZLQiGoqcZuITVb7arRxkTG2e+ps95RZ7skz3ZNmuCdOd2N+B2CNmeQeNcE9crx72FhX1igiAhgBylCUNMiGC4wEDNwgM4XnfYOJRApqDDIdYTWYyqhT9M+gTZx90gyjtWJx7G0MWN3B0W2NfSuHhr+FAmaCjaFgNMQYCiURQWbvkZMADkVCVQSjK4ARP1ZP1pw8sioqLasmnDoTnVglbCRZDm5aOdWX0RTtnnG3e/oc99RZnimzPJNmeACvidPcmECNBb8mu0dPco+c4B413j1inHv4WPewMbTKkzXKTaGTFj3pBq3YIBfK4JCRE+jHCRynFjdDn/7yyVkLntyaG5q/++1ZCyZafvs3PT+sUfi57aeNzFi4elAHR7rKIQhYHFBwULiwf0HNmp0pEgEyew+fYhIBPrdcuXpVBUchJKqBR0w4PLLVWdl2s4xNsVhs+8z2xcDNW9u3PffktjNGvp2TA1Q9tz1H7QprC0Z1lGlc22M8OMx5U1khQkHDSSJAZi+madWREcEIoseaeVQ9WQuGSHaUBKsT2+1wEEq3uhKxuCU7d9tzS3QY5Xy5ZOZbe4Kbe9bcF7I3jHe/PTOmMDIGcoiDQ94AAkdDChr2BM1arlZ4qY6Mqq78f9o58pAADCFUAAAAAElFTkSuQmCC)\n",
        "\n",
        "In Colab, you can view and edit the file system by clicking on the \"Files\" icon on the left side. You will see the file system of your Colab session there with a directory called \"sample_data\". You can make another directory by right-clicking somewhere in this file system window and choosing \"New folder\". Create a folder called Data.\n",
        "\n",
        "Then, you can upload your data to this folder. Right click on your new Data folder and click Upload. Find the file \"adams-hhgttg.txt\" in the repository that you downloaded, and upload it. You should now have a directory called \"Data\" in your session and inside of that there should be the file \"adams-hhgttg.txt\". Do note that Colab sessions are temporary - the next time you load Colab to work on this notebook, you will have to make the Data directory and upload the file again.\n",
        "\n",
        "There is also a more permanent solution, which is to link your Google Drive to your Colab session. You can do it by clicking the \"Mount Drive\" button in the Files window, or with this code:"
      ]
    },
    {
      "cell_type": "code",
      "source": [
        "from google.colab import drive\n",
        "drive.mount('/content/drive')"
      ],
      "metadata": {
        "id": "KGZpJXs-BicZ"
      },
      "execution_count": null,
      "outputs": []
    },
    {
      "cell_type": "markdown",
      "source": [
        "In the Files window, you will now see an additional directory called Drive. In this directory will be the contents of your Google Drive. If you put your data there, for example in a directory called \"data\", you will be able to access this from Colab. It will be located on the path `drive/data/file.txt`. Anything you put on Google Drive will still be there next time you open Colab, as long as you link your session to Google Drive again."
      ],
      "metadata": {
        "id": "j919h41JBlYC"
      }
    },
    {
      "cell_type": "markdown",
      "source": [
        "**Opening a file**\n",
        "\n",
        "The following code opens a file in our filesystem, prints the first 10 lines and closes the file. Please note that this file must exist in your Colab session (when running on Colab) on your computer (when running locally).\n",
        "\n",
        "If you are working locally and you have only have downloaded this notebook, go back to the repository and download the file to the appropriate path (or change the path below). \n",
        "\n",
        "**Please note:** The code below shows you how the `open()` function works. It's better to use a `with` block (see below), which does this opening and closing for you."
      ],
      "metadata": {
        "id": "0pS65L62DovC"
      }
    },
    {
      "cell_type": "code",
      "execution_count": null,
      "metadata": {
        "scrolled": true,
        "id": "61D4RcmKbpRz"
      },
      "outputs": [],
      "source": [
        "infile = open('data/adams-hhgttg.txt', 'r', encoding='utf-8')\n",
        "#If you have put the file somewhere else, such as on your Drive, you should modify the path to open.\n",
        "#For example to '/drive/data/adams-hhgttg.txt'. Otherwise, you will get a FileNotFound error when running this code.\n",
        "\n",
        "for i, line in enumerate(infile):\n",
        "    if i == 10:\n",
        "        break\n",
        "    print(line)\n",
        "\n",
        "infile.close()"
      ]
    },
    {
      "cell_type": "markdown",
      "metadata": {
        "id": "z3PhyzsUbpRz"
      },
      "source": [
        "The key passage here is the one in which the `open()` function opens a file and return a **file object**, and it is commonly used with the following two parameters: the **name of the file** that we want to open, the **mode** and the **encoding**. \n",
        "\n",
        "- **filename**: the name of the file to open\n",
        "\n",
        "- the **mode** in which we want to open a file: the most commonly used values are `r` for **reading** (default), `w` for **writing** (overwriting existing files), and `a` for **appending**. (Note that [the documentation](https://docs.python.org/3/library/functions.html#open) report mode values that may be necessary in some exceptional case)\n",
        "\n",
        "- **encoding**: which mapping of string to code points (conversion to bytes) to use, more on this later. "
      ]
    },
    {
      "cell_type": "markdown",
      "metadata": {
        "id": "FrEfwsWnbpRz"
      },
      "source": [
        ">**IMPORTANT**: every opened file should be **closed** by using the function `close()` before the end of the program, or the file could be unavailable to successive manipulations or for other programs."
      ]
    },
    {
      "cell_type": "markdown",
      "metadata": {
        "id": "aIQb8OT2bpRz"
      },
      "source": [
        "There are other ways to read a text file, among which the use of the methods `read()` and `readlines()`, that would simplify the above function in:\n",
        "\n",
        "```python\n",
        "infile = open('data/adams-hhgttg.txt', 'r', encoding='utf-8')\n",
        "text = infile.readlines()\n",
        "print(text[:10])\n",
        "infile.close()\n",
        "```\n",
        "\n",
        "However, these methods **read the whole file at once**, thus creating huge problems when working with big corpora.\n",
        "\n",
        "In the solution we adopt here the input file is read line by line, so that at any given moment **only one line of text** is loaded into memory. "
      ]
    },
    {
      "cell_type": "markdown",
      "metadata": {
        "id": "u1pp4LNJbpRz"
      },
      "source": [
        "### The with statement \n",
        "\n",
        "A `with` statement is used to wrap the execution of a block of code.\n",
        "\n",
        "Using this construction to open files has three major advantages:\n",
        "\n",
        "- there is no need to explicitly  close the file (the file is automatically closed as soon as the nested code exits)\n",
        "- the file is closed automatically even when unhandled errors cause the program to crash\n",
        "- the code is way clearer (it is trivial to identify where in the code a file is opened) \n",
        "\n",
        "Thus, you can  make it yourself a bit easier. Forget about the explicit `.close()` method. The code above can be rewritten as follows:"
      ]
    },
    {
      "cell_type": "code",
      "execution_count": null,
      "metadata": {
        "id": "HyQ6fxnZbpRz"
      },
      "outputs": [],
      "source": [
        "with open('data/adams-hhgttg.txt', encoding='utf-8') as infile:\n",
        "    \n",
        "    lines = infile.readlines()\n",
        "    \n",
        "print(lines[:10])"
      ]
    },
    {
      "cell_type": "markdown",
      "metadata": {
        "id": "s-b1IHBDbpRz"
      },
      "source": [
        "The code in the indented with block is executed while the file is opened. It is automatically closed as the block is closed. "
      ]
    },
    {
      "cell_type": "markdown",
      "metadata": {
        "id": "mExCcDH-bpRz"
      },
      "source": [
        "### Quiz\n",
        "\n",
        "* Write one function that takes a file path as argument and prints statistics about the file, giving:\n",
        "    * The number of tokens\n",
        "    * The number of unique tokens\n",
        "    * The type:token ratio\n",
        "    * The 10 most frequent words\n",
        "* Write a normalization or cleaning function that pre-processes the text, by removing:\n",
        "    * Uppercase\n",
        "    * Punctuation\n",
        "* Call the normalization function inside the main function. "
      ]
    },
    {
      "cell_type": "code",
      "execution_count": null,
      "metadata": {
        "id": "vNUwnaAlbpR0"
      },
      "outputs": [],
      "source": [
        "file_path = 'data/adams-hhgttg.txt'\n",
        "\n",
        "# Your code here"
      ]
    },
    {
      "cell_type": "markdown",
      "metadata": {
        "id": "_yGMRrDCbpR0"
      },
      "source": [
        "---"
      ]
    },
    {
      "cell_type": "markdown",
      "metadata": {
        "id": "GsxBOHkTbpR0"
      },
      "source": [
        "Writing an output file in Python has a structure that is close to that we're ued in our reading examples above. The main difference are \n",
        "\n",
        "- the specification of the **mode** `w`\n",
        "\n",
        "\n",
        "- the use of the function `write()` for each line of text"
      ]
    },
    {
      "cell_type": "code",
      "execution_count": null,
      "metadata": {
        "id": "aXGxYrYBbpR0"
      },
      "outputs": [],
      "source": [
        "with open('stuff/output-test-1.txt', 'w', encoding='utf-8') as outfile:\n",
        "    \n",
        "    outfile.write(\"My name is:\")\n",
        "    outfile.write(\"John\")"
      ]
    },
    {
      "cell_type": "markdown",
      "metadata": {
        "collapsed": true,
        "id": "np9NpLqSbpR0"
      },
      "source": [
        "> When writing line by line, it's up to you to take care of the **newlines** by appending `\\n` to each line"
      ]
    },
    {
      "cell_type": "code",
      "execution_count": null,
      "metadata": {
        "id": "sU8KZqRJbpR0"
      },
      "outputs": [],
      "source": [
        "with open('stuff/output-test-2.txt', 'w', encoding='utf-8') as outfile:\n",
        "    \n",
        "    outfile.write(\"My name is:\\n\")\n",
        "    outfile.write(\"Alexander\")\n"
      ]
    },
    {
      "cell_type": "markdown",
      "metadata": {
        "id": "A_68n9CHbpR0"
      },
      "source": [
        "We can inspect the file we just created with the command line. The following is not Python, but a basic command line tool to print the contents of a file. At least on Mac and Linux, this works. Otherwise, just navigate to the file and open it."
      ]
    },
    {
      "cell_type": "code",
      "execution_count": null,
      "metadata": {
        "id": "f3HyUAyubpR0"
      },
      "outputs": [],
      "source": [
        "!cat stuff/output-test-2.txt"
      ]
    },
    {
      "cell_type": "markdown",
      "metadata": {
        "id": "IvYyyijwbpR1"
      },
      "source": [
        "### Looping through folders and files\n",
        "\n",
        "We can use the `os` module to loop through a folder and load multiple files in memory."
      ]
    },
    {
      "cell_type": "code",
      "execution_count": null,
      "metadata": {
        "id": "KrEs3kNdbpR1"
      },
      "outputs": [],
      "source": [
        "gutenberg_books = dict()\n",
        "\n",
        "for root, dirs, files in os.walk(\"data/gutenberg-extension\"):\n",
        "    for file in files:\n",
        "        \n",
        "        with open(os.path.join(root,file), encoding='utf-8') as infile:\n",
        "            gutenberg_books[file] = infile.read()"
      ]
    },
    {
      "cell_type": "code",
      "execution_count": null,
      "metadata": {
        "id": "vjRzvBCtbpR1"
      },
      "outputs": [],
      "source": [
        "gutenberg_books.keys()"
      ]
    },
    {
      "cell_type": "code",
      "execution_count": null,
      "metadata": {
        "id": "u59RLGAebpR1"
      },
      "outputs": [],
      "source": [
        "print(gutenberg_books['doyle-sherlock.txt'][:300])"
      ]
    },
    {
      "cell_type": "markdown",
      "metadata": {
        "id": "fRzAWQQabpR1"
      },
      "source": [
        "---"
      ]
    },
    {
      "cell_type": "markdown",
      "metadata": {
        "id": "nb6CksgtbpR1"
      },
      "source": [
        "# Exercises\n",
        "\n",
        "## Reading\n",
        "TBD\n",
        "\n",
        "## Tasks"
      ]
    },
    {
      "cell_type": "markdown",
      "metadata": {
        "id": "6TcUHr8ibpR1"
      },
      "source": [
        "### Exercise 1.\n",
        "\n",
        "Find all words starting with a capital letter from the text in `text` below.\n",
        "\n",
        "Make a list of the most frequent words in this text, but without the words 'the' and 'a'. "
      ]
    },
    {
      "cell_type": "code",
      "execution_count": null,
      "metadata": {
        "id": "J1yr3i4KbpR1"
      },
      "outputs": [],
      "source": [
        "text = \"Right, okay, so right around 9:00 she's gonna get very angry with me. Silence Earthling. my name is Darth Vader. I'm am an extra-terrestrial from the planet Vulcan. That's for messing up my hair. Um, well it's a delorean, right? You're George McFly.\"\n",
        "\n",
        "# Your code here"
      ]
    },
    {
      "cell_type": "markdown",
      "metadata": {
        "id": "lSMATjLPbpR1"
      },
      "source": [
        "### Exercise 2 \n",
        "\n",
        "Write a function that:\n",
        "* Takes a string as input\n",
        "* Calculates the frequency of every token/word (separated by white space) in the string\n",
        "* Returns a dictionary of tokens as keys and their frequency in the text as values.\n",
        "* Implement an optional function parameter to make the function ignore capital letters\n",
        "\n",
        "You can use everything you think you need and that you've learnt so far. Test it on the `text` variable value from the previous cell."
      ]
    },
    {
      "cell_type": "code",
      "execution_count": null,
      "metadata": {
        "id": "e6B73KfEbpR2"
      },
      "outputs": [],
      "source": [
        "# Your code here"
      ]
    },
    {
      "cell_type": "markdown",
      "metadata": {
        "id": "QNWL7eVtbpR2"
      },
      "source": [
        "### Exercise 3\n",
        "\n",
        "Adapt the function in the previous exercise so that it also ignores punctuation. \n",
        "\n",
        "Hint: you can find all punctuation characters by calling:\n",
        "        \n",
        "```python\n",
        "import string\n",
        "print(string.punctuation)\n",
        "```"
      ]
    },
    {
      "cell_type": "code",
      "execution_count": null,
      "metadata": {
        "id": "kraYtk2gbpR2"
      },
      "outputs": [],
      "source": [
        "# Your code here"
      ]
    },
    {
      "cell_type": "markdown",
      "metadata": {
        "id": "wayILRb0bpR4"
      },
      "source": [
        "### Exercise 4\n",
        "Remember the quiz from the previous notebook with the following code:\n",
        "    \n",
        "```python\n",
        "homogeneous_list = [\"1\", \"56\", \"33\", \"8\", \"220\", \"9\"]\n",
        "homogeneous_list.sort()\n",
        "homogeneous_list\n",
        "```\n",
        "\n",
        "Try to fix this so that it sorts the list as if its elements were integers!\n",
        "\n",
        "Can you then do the same for this list, so that Elephant is after canary?\n",
        "\n",
        "```python\n",
        "homogeneous_list = [\"canary\", \"hippo\", \"kangaroo\", \"narwhal\", \"Elephant\", \"raccoon\", \"yak\", \"ant\"]\n",
        "homogeneous_list.sort()\n",
        "homogeneous_list\n",
        "```"
      ]
    },
    {
      "cell_type": "code",
      "execution_count": null,
      "metadata": {
        "id": "cLbfTPBJbpR5"
      },
      "outputs": [],
      "source": [
        "# Your code here"
      ]
    },
    {
      "cell_type": "markdown",
      "metadata": {
        "id": "5DXXl9YhbpR5"
      },
      "source": [
        "### Exercise 5\n",
        "\n",
        "The [factorial](https://en.wikipedia.org/wiki/Factorial) of an integer $n$, defined as:\n",
        "\n",
        "$$\n",
        "n! = \\begin{cases}\n",
        "               1               & n = 1\\\\\n",
        "               n * (n-1)! & \\text{n > 1}\n",
        "           \\end{cases}\n",
        "$$\n",
        "\n",
        "is the product of all positive integers less than or equal to $n$. For example:\n",
        "\n",
        "$$4! = 4 * 3 * 2 * 1$$\n",
        "\n",
        "$$3! = 3 * 2 * 1$$\n",
        "\n",
        "The factorial operation can be implemented in Python both as a recursive function and as an iterative functions. \n",
        "\n",
        "Write one factorial function picking the approach you prefer."
      ]
    },
    {
      "cell_type": "code",
      "execution_count": null,
      "metadata": {
        "id": "zbd5DRz5bpR5"
      },
      "outputs": [],
      "source": [
        "# Your code here\n"
      ]
    },
    {
      "cell_type": "markdown",
      "metadata": {
        "id": "3zooGLGYbpR5"
      },
      "source": [
        "### Exercise 6\n",
        "\n",
        "Read the file `data/adams-hhgttg.txt` and:\n",
        "\n",
        "- Count the number of lines in the file\n",
        "\n",
        "- Count the number of non-empty lines\n",
        "\n",
        "- Read each line of the input file, remove its newline character and write it to file `stuff/adams-output.txt`\n",
        "\n",
        "- Compute the average number of alphanumeric characters per line\n",
        "\n",
        "- Identify all the unique words used in the text (no duplicates!) and write them in a text file called `stuff/lexicon.txt` (one word per line)"
      ]
    },
    {
      "cell_type": "code",
      "execution_count": null,
      "metadata": {
        "id": "69ATdAKWbpR5"
      },
      "outputs": [],
      "source": [
        "# your code here\n",
        "\n",
        "with open(\"stuff/lexicon.txt\", \"w\") as infile:\n",
        "    infile.write(\"something\")"
      ]
    },
    {
      "cell_type": "markdown",
      "metadata": {
        "id": "iuAotst2bpR6"
      },
      "source": [
        "### Exercise 7"
      ]
    },
    {
      "cell_type": "markdown",
      "metadata": {
        "id": "uy_G8alSbpR6"
      },
      "source": [
        "A well-known programming example is outputting the 99 Bottles of Beer song through code. See: https://en.wikipedia.org/wiki/99_Bottles_of_Beer.\n",
        "\n",
        "Can you do this in Python so that it prints all 100 verses? (including the proper singular/plural words for 1 and 'no more' bottles?)\n",
        "\n",
        "```\n",
        "99 bottles of beer on the wall, 99 bottles of beer.\n",
        "Take one down, pass it around, 98 bottles of beer on the wall...\n",
        "```\n",
        "\n",
        "Please note: if you're Dutch, you are allowed to take the _Potje met vet_ song instead, but don't let it run into infinity! (As this counts upwards, instead of downwards)\n",
        "\n",
        "Try to find a balance in writing concice and understandible!"
      ]
    },
    {
      "cell_type": "code",
      "execution_count": null,
      "metadata": {
        "id": "hRv-ryt2bpR6"
      },
      "outputs": [],
      "source": [
        "def get_bottles(n):\n",
        "    pass\n",
        "\n",
        "for i in range(99, 0, -1):\n",
        "    get_bottles(i)  \n",
        "    \n",
        "# Expand me! "
      ]
    },
    {
      "cell_type": "markdown",
      "metadata": {
        "id": "FJIuAyjkbpR6"
      },
      "source": [
        "---"
      ]
    }
  ],
  "metadata": {
    "kernelspec": {
      "display_name": "Python 3",
      "language": "python",
      "name": "python3"
    },
    "language_info": {
      "codemirror_mode": {
        "name": "ipython",
        "version": 3
      },
      "file_extension": ".py",
      "mimetype": "text/x-python",
      "name": "python",
      "nbconvert_exporter": "python",
      "pygments_lexer": "ipython3",
      "version": "3.8.3"
    },
    "colab": {
      "name": "2_InputOutput.ipynb",
      "provenance": []
    }
  },
  "nbformat": 4,
  "nbformat_minor": 0
}