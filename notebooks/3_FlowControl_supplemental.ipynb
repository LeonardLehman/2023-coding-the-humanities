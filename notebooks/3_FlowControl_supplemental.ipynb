{
 "cells": [
  {
   "cell_type": "markdown",
   "metadata": {
    "id": "PgEPTsqKbpRd"
   },
   "source": [
    "# Python basics 3: Flow Control (supplemental)\n",
    "\n",
    "This notebook contains some additional materials for the topics of notebook 3."
   ]
  },
  {
   "cell_type": "markdown",
   "metadata": {
    "id": "DvV_db_dbpRh",
    "tags": []
   },
   "source": [
    "## Conditional statements, loops and functions\n"
   ]
  },
  {
   "cell_type": "markdown",
   "metadata": {
    "id": "X5_8X-9hbpRr"
   },
   "source": [
    "### List Comprehensions\n",
    "\n",
    "A list comprehension is a syntactic construct that allows us to create lists by applying a function on another list, in just **one line** of code. \n",
    "\n",
    "Even if the reverse isn't always true, list comprehensions can always be (inefficiently) expressed as loops. We will exploit this family resemblance for introducing this construct."
   ]
  },
  {
   "cell_type": "markdown",
   "metadata": {
    "id": "T52TEZpTbpRr"
   },
   "source": [
    "In what follows, we start with a list of numbers and we want to square all of its elements and save our final values in a new list."
   ]
  },
  {
   "cell_type": "code",
   "execution_count": null,
   "metadata": {
    "id": "xreE3ubQbpRr"
   },
   "outputs": [],
   "source": [
    "# Our source list\n",
    "source_list = [1,2,3,4,5,6,7,8,9]"
   ]
  },
  {
   "cell_type": "code",
   "execution_count": null,
   "metadata": {
    "id": "k-CrBOsEbpRr"
   },
   "outputs": [],
   "source": [
    "# We can solve this problem with a for loop...\n",
    "final_list = []\n",
    "\n",
    "for el in source_list:\n",
    "    final_list.append(el ** 2)\n",
    "\n",
    "print(final_list)"
   ]
  },
  {
   "cell_type": "code",
   "execution_count": null,
   "metadata": {
    "id": "eipfML2TbpRr"
   },
   "outputs": [],
   "source": [
    "# But this can also be done in one line\n",
    "final_list = [el ** 2 for el in source_list]\n",
    "\n",
    "print(final_list)"
   ]
  },
  {
   "cell_type": "markdown",
   "metadata": {
    "id": "Z-2UhsqvbpRr"
   },
   "source": [
    "These list comprehensions cary the form of:\n",
    "    \n",
    "```python\n",
    "[i.method() for i in items]\n",
    "```"
   ]
  },
  {
   "cell_type": "markdown",
   "metadata": {
    "id": "glykXGT9bpRr"
   },
   "source": [
    "**Conditional statements may be implemented**\n",
    "\n",
    "In what follows we want to ignore all the odd numbers"
   ]
  },
  {
   "cell_type": "code",
   "execution_count": null,
   "metadata": {
    "id": "_diIdh-vbpRs"
   },
   "outputs": [],
   "source": [
    "# We can solve this problem with a for loop...\n",
    "final_list = []\n",
    "\n",
    "for el in source_list:\n",
    "    if el % 2 == 0:\n",
    "        final_list.append(el ** 2)\n",
    "\n",
    "print(final_list)"
   ]
  },
  {
   "cell_type": "code",
   "execution_count": null,
   "metadata": {
    "id": "5xKe9qP7bpRs"
   },
   "outputs": [],
   "source": [
    "# ... or by using list comprehension\n",
    "final_list = [el ** 2 for el in source_list if el % 2 == 0]\n",
    "\n",
    "print(final_list)"
   ]
  },
  {
   "cell_type": "markdown",
   "metadata": {
    "id": "g8zffkMybpRs"
   },
   "source": [
    "**If you want to implement an else clause the syntax changes slightly**\n",
    "\n",
    "In what follows we want to leave the odd numbers unchanged"
   ]
  },
  {
   "cell_type": "code",
   "execution_count": null,
   "metadata": {
    "id": "OXheeO4mbpRs"
   },
   "outputs": [],
   "source": [
    "# we can solve this problem with a for loop...\n",
    "final_list = []\n",
    "\n",
    "for el in source_list:\n",
    "    if el % 2 == 0:\n",
    "        final_list.append(el ** 2)\n",
    "    else:\n",
    "        final_list.append(el)\n",
    "\n",
    "print(final_list)"
   ]
  },
  {
   "cell_type": "code",
   "execution_count": null,
   "metadata": {
    "id": "RDwqq-yabpRs"
   },
   "outputs": [],
   "source": [
    "# ... or by using list comprehension\n",
    "final_list = [el ** 2 if el % 2 == 0 else el for el in source_list]\n",
    "\n",
    "print(final_list)"
   ]
  },
  {
   "cell_type": "markdown",
   "metadata": {
    "id": "8E5dOz8KbpRs"
   },
   "source": [
    "### Quiz\n",
    "\n",
    "The following list contains 100 random extractions (with replacement) of numbers between 1 and 15. \n",
    "\n",
    "Find the number that has never been extracted"
   ]
  },
  {
   "cell_type": "code",
   "execution_count": null,
   "metadata": {
    "id": "Cv2ZrsaSbpRt"
   },
   "outputs": [],
   "source": [
    "random_numbers = [1, 2, 1, 1, 9, 13, 15, 5, 9, 8, 12, 14, 3, 2, 8, 10, 3, 12, 15, 13, 5, 3, 7, 5, 2, 13, 12, 8, 10, 5, 15, 8, 2, 8, 5, 12, 9, 2, 3, 5, 1, 4, 5, 9, 13, 2, 12, 5, 10, 8, 1, 15, 15, 6, 12, 3, 1, 3, 7, 14, 15, 10, 15, 7, 10, 12, 1, 2, 13, 7, 9, 6, 6, 7, 4, 12, 10, 8, 8, 3, 8, 4, 6, 14, 10, 5, 2, 3, 15, 4, 9, 3, 7, 7, 2, 4, 4, 1, 7, 15]"
   ]
  },
  {
   "cell_type": "code",
   "execution_count": null,
   "metadata": {
    "id": "XPH0Li2CbpRt"
   },
   "outputs": [],
   "source": [
    "# Your code here\n",
    "\n"
   ]
  },
  {
   "cell_type": "markdown",
   "metadata": {
    "id": "kPgRBM5fbpRt"
   },
   "source": [
    "---"
   ]
  }
 ],
 "metadata": {
  "colab": {
   "name": "2_InputOutput.ipynb",
   "provenance": []
  },
  "kernelspec": {
   "display_name": "Python 3 (ipykernel)",
   "language": "python",
   "name": "python3"
  },
  "language_info": {
   "codemirror_mode": {
    "name": "ipython",
    "version": 3
   },
   "file_extension": ".py",
   "mimetype": "text/x-python",
   "name": "python",
   "nbconvert_exporter": "python",
   "pygments_lexer": "ipython3",
   "version": "3.8.13"
  }
 },
 "nbformat": 4,
 "nbformat_minor": 4
}
