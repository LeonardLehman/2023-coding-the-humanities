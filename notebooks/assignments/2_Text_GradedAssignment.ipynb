{
 "cells": [
  {
   "cell_type": "markdown",
   "metadata": {
    "id": "X8NI2UYxmAxm"
   },
   "source": [
    "# Text: Graded assignment\n",
    "\n",
    "This notebook contains the second graded collaborative assignment of the 2023 Coding the Humanities course, and it is based on the [2. Text](../2_Text.ipynb) course material."
   ]
  },
  {
   "cell_type": "markdown",
   "metadata": {
    "id": "tDox7v6Zydoa"
   },
   "source": [
    "This is a collaborative assignment. In the text cell below, please include all the names of your group members.\n",
    "\n",
    "Below that, answer the question using a mix of code cells and text cells in a way that would make your answers understandable to outsiders. To explain your code, you can use commenting (#) and/or text cells, similar to what you see in the course materials.\n",
    "\n",
    "If you used code or a solution from the internet (such as StackOverflow) or another external resource, please make reference to it (in any format). Unattributed copied code will be considered plagiarism and therefore fraud."
   ]
  },
  {
   "attachments": {},
   "cell_type": "markdown",
   "metadata": {
    "id": "yrkCK50pyv99"
   },
   "source": [
    "**Authors of this answer:** Leonards Leimanis"
   ]
  },
  {
   "cell_type": "markdown",
   "metadata": {
    "id": "vHoYErhC0H6l"
   },
   "source": [
    "## Assignment\n",
    "\n",
    "Below, you will find a string containing the winning songs of the Eurovision Song Contest since the year 2012. Answer the following questions using Python code as much as possible:"
   ]
  },
  {
   "cell_type": "code",
   "execution_count": null,
   "metadata": {},
   "outputs": [],
   "source": []
  },
  {
   "cell_type": "code",
   "execution_count": 92,
   "metadata": {
    "id": "y3af0USf0K2A"
   },
   "outputs": [],
   "source": [
    "eurovision_winners = \"\"\"2012: loreen - euphoria (Sweden)\n",
    "2013: emmelie de forest - only teardrops (Denmark)\n",
    "2014: conchita wurst - rise like a phoenix (Austria)\n",
    "2015: mans zelmerlow - heroes (Sweden)\n",
    "2016: jamala - 1944 (Ukraine)\n",
    "2017: salvador sobral - amar pelos dois (Portugal)\n",
    "2018: netta - toy (Israel)\n",
    "2019: duncan laurence - arcade (Netherlands)\n",
    "2021: maneskin - zitti e buoni (Italy)\n",
    "2022: kalush orchestra - stefania (Ukraine)\n",
    "\"\"\""
   ]
  },
  {
   "cell_type": "markdown",
   "metadata": {},
   "source": [
    "1. Check if the string starts with 2012."
   ]
  },
  {
   "cell_type": "code",
   "execution_count": 93,
   "metadata": {},
   "outputs": [
    {
     "data": {
      "text/plain": [
       "True"
      ]
     },
     "execution_count": 93,
     "metadata": {},
     "output_type": "execute_result"
    }
   ],
   "source": [
    "eurovision_winners.startswith(\"2012\")"
   ]
  },
  {
   "cell_type": "markdown",
   "metadata": {},
   "source": [
    "2. Print this text titlecased (every word starts with a capital letter, ignore the function words for now)."
   ]
  },
  {
   "cell_type": "code",
   "execution_count": 94,
   "metadata": {},
   "outputs": [
    {
     "name": "stdout",
     "output_type": "stream",
     "text": [
      "2012: LOREEN - EUPHORIA (SWEDEN)\n",
      "2013: EMMELIE DE FOREST - ONLY TEARDROPS (DENMARK)\n",
      "2014: CONCHITA WURST - RISE LIKE A PHOENIX (AUSTRIA)\n",
      "2015: MANS ZELMERLOW - HEROES (SWEDEN)\n",
      "2016: JAMALA - 1944 (UKRAINE)\n",
      "2017: SALVADOR SOBRAL - AMAR PELOS DOIS (PORTUGAL)\n",
      "2018: NETTA - TOY (ISRAEL)\n",
      "2019: DUNCAN LAURENCE - ARCADE (NETHERLANDS)\n",
      "2021: MANESKIN - ZITTI E BUONI (ITALY)\n",
      "2022: KALUSH ORCHESTRA - STEFANIA (UKRAINE)\n",
      "\n"
     ]
    }
   ],
   "source": [
    "print(eurovision_winners.upper())"
   ]
  },
  {
   "cell_type": "markdown",
   "metadata": {},
   "source": [
    "3. How many different songs are listed?"
   ]
  },
  {
   "cell_type": "code",
   "execution_count": 95,
   "metadata": {},
   "outputs": [
    {
     "data": {
      "text/plain": [
       "10"
      ]
     },
     "execution_count": 95,
     "metadata": {},
     "output_type": "execute_result"
    }
   ],
   "source": [
    "eurovision_winners.count(\"\\n\")"
   ]
  },
  {
   "cell_type": "markdown",
   "metadata": {},
   "source": [
    "4. Convert the string to a list of words. Then, make a string out of the list in which each word is on a new line."
   ]
  },
  {
   "cell_type": "code",
   "execution_count": 96,
   "metadata": {},
   "outputs": [
    {
     "name": "stdout",
     "output_type": "stream",
     "text": [
      "['2012:', 'loreen', '-', 'euphoria', '(Sweden)', '2013:', 'emmelie', 'de', 'forest', '-', 'only', 'teardrops', '(Denmark)', '2014:', 'conchita', 'wurst', '-', 'rise', 'like', 'a', 'phoenix', '(Austria)', '2015:', 'mans', 'zelmerlow', '-', 'heroes', '(Sweden)', '2016:', 'jamala', '-', '1944', '(Ukraine)', '2017:', 'salvador', 'sobral', '-', 'amar', 'pelos', 'dois', '(Portugal)', '2018:', 'netta', '-', 'toy', '(Israel)', '2019:', 'duncan', 'laurence', '-', 'arcade', '(Netherlands)', '2021:', 'maneskin', '-', 'zitti', 'e', 'buoni', '(Italy)', '2022:', 'kalush', 'orchestra', '-', 'stefania', '(Ukraine)']\n",
      "\t\n",
      "The NEW LIST\n",
      "2012:\n",
      "loreen\n",
      "-\n",
      "euphoria\n",
      "(Sweden)\n",
      "2013:\n",
      "emmelie\n",
      "de\n",
      "forest\n",
      "-\n",
      "only\n",
      "teardrops\n",
      "(Denmark)\n",
      "2014:\n",
      "conchita\n",
      "wurst\n",
      "-\n",
      "rise\n",
      "like\n",
      "a\n",
      "phoenix\n",
      "(Austria)\n",
      "2015:\n",
      "mans\n",
      "zelmerlow\n",
      "-\n",
      "heroes\n",
      "(Sweden)\n",
      "2016:\n",
      "jamala\n",
      "-\n",
      "1944\n",
      "(Ukraine)\n",
      "2017:\n",
      "salvador\n",
      "sobral\n",
      "-\n",
      "amar\n",
      "pelos\n",
      "dois\n",
      "(Portugal)\n",
      "2018:\n",
      "netta\n",
      "-\n",
      "toy\n",
      "(Israel)\n",
      "2019:\n",
      "duncan\n",
      "laurence\n",
      "-\n",
      "arcade\n",
      "(Netherlands)\n",
      "2021:\n",
      "maneskin\n",
      "-\n",
      "zitti\n",
      "e\n",
      "buoni\n",
      "(Italy)\n",
      "2022:\n",
      "kalush\n",
      "orchestra\n",
      "-\n",
      "stefania\n",
      "(Ukraine)\n"
     ]
    }
   ],
   "source": [
    "list = eurovision_winners.split()\n",
    "print(list)\n",
    "\n",
    "joined_list = \"\\n\".join(list)\n",
    "\n",
    "print(\"\\t\")\n",
    "print(\"The NEW LIST\")\n",
    "print(joined_list)"
   ]
  },
  {
   "cell_type": "markdown",
   "metadata": {},
   "source": [
    "5. One of the song titles is a year (a number). Find its index in the list you made in 4. and replace the string object for the number as integer. Print the list. "
   ]
  },
  {
   "cell_type": "markdown",
   "metadata": {},
   "source": [
    " of the song titles is a year (a number). Find its index in the list you made in 4. and replace the string object for the number as integer. Print the list. "
   ]
  },
  {
   "cell_type": "code",
   "execution_count": 97,
   "metadata": {},
   "outputs": [
    {
     "name": "stdout",
     "output_type": "stream",
     "text": [
      "31\n",
      "1944\n",
      "['2012:', 'loreen', '-', 'euphoria', '(Sweden)', '2013:', 'emmelie', 'de', 'forest', '-', 'only', 'teardrops', '(Denmark)', '2014:', 'conchita', 'wurst', '-', 'rise', 'like', 'a', 'phoenix', '(Austria)', '2015:', 'mans', 'zelmerlow', '-', 'heroes', '(Sweden)', '2016:', 'jamala', '-', 1944, '(Ukraine)', '2017:', 'salvador', 'sobral', '-', 'amar', 'pelos', 'dois', '(Portugal)', '2018:', 'netta', '-', 'toy', '(Israel)', '2019:', 'duncan', 'laurence', '-', 'arcade', '(Netherlands)', '2021:', 'maneskin', '-', 'zitti', 'e', 'buoni', '(Italy)', '2022:', 'kalush', 'orchestra', '-', 'stefania', '(Ukraine)']\n"
     ]
    }
   ],
   "source": [
    "eurovision_winners = \"\"\"2012: loreen - euphoria (Sweden)\n",
    "2013: emmelie de forest - only teardrops (Denmark)\n",
    "2014: conchita wurst - rise like a phoenix (Austria)\n",
    "2015: mans zelmerlow - heroes (Sweden)\n",
    "2016: jamala - 1944 (Ukraine)\n",
    "2017: salvador sobral - amar pelos dois (Portugal)\n",
    "2018: netta - toy (Israel)\n",
    "2019: duncan laurence - arcade (Netherlands)\n",
    "2021: maneskin - zitti e buoni (Italy)\n",
    "2022: kalush orchestra - stefania (Ukraine)\n",
    "\"\"\"\n",
    "\n",
    "list = eurovision_winners.split()\n",
    "\n",
    "ignore = list.index('1944')\n",
    "\n",
    "print(ignore)\n",
    "\n",
    "print(list[ignore])\n",
    "\n",
    "list[ignore] = int(list[ignore])\n",
    "\n",
    "print(list)\n"
   ]
  },
  {
   "cell_type": "markdown",
   "metadata": {},
   "source": [
    "6. Create a regular expression that returns the names of all the countries that won, and print them, without duplicates. As a reminder, you can use a regex tester website to help you: https://regex101.com/"
   ]
  },
  {
   "cell_type": "code",
   "execution_count": 112,
   "metadata": {},
   "outputs": [
    {
     "data": {
      "text/plain": [
       "{'(Austria)',\n",
       " '(Denmark)',\n",
       " '(Israel)',\n",
       " '(Italy)',\n",
       " '(Netherlands)',\n",
       " '(Portugal)',\n",
       " '(Sweden)',\n",
       " '(Ukraine)'}"
      ]
     },
     "execution_count": 112,
     "metadata": {},
     "output_type": "execute_result"
    }
   ],
   "source": [
    "eurovision_winners = \"\"\"2012: loreen - euphoria (Sweden)\n",
    "2013: emmelie de forest - only teardrops (Denmark)\n",
    "2014: conchita wurst - rise like a phoenix (Austria)\n",
    "2015: mans zelmerlow - heroes (Sweden)\n",
    "2016: jamala - 1944 (Ukraine)\n",
    "2017: salvador sobral - amar pelos dois (Portugal)\n",
    "2018: netta - toy (Israel)\n",
    "2019: duncan laurence - arcade (Netherlands)\n",
    "2021: maneskin - zitti e buoni (Italy)\n",
    "2022: kalush orchestra - stefania (Ukraine)\n",
    "\"\"\"\n",
    "\n",
    "list = eurovision_winners.split()\n",
    "\n",
    "import re\n",
    "\n",
    "foundlist = re.findall(r'\\(\\w+\\)', eurovision_winners)\n",
    "\n",
    "foundlistdic = set(foundlist)\n",
    "\n",
    "foundlistdic\n",
    "\n"
   ]
  }
 ],
 "metadata": {
  "colab": {
   "provenance": []
  },
  "kernelspec": {
   "display_name": "Python 3",
   "language": "python",
   "name": "python3"
  },
  "language_info": {
   "codemirror_mode": {
    "name": "ipython",
    "version": 3
   },
   "file_extension": ".py",
   "mimetype": "text/x-python",
   "name": "python",
   "nbconvert_exporter": "python",
   "pygments_lexer": "ipython3",
   "version": "3.10.2"
  },
  "vscode": {
   "interpreter": {
    "hash": "9be826744cc5714b462ad0c8de88bfa6f016a48973c6317b9546595d1685cabb"
   }
  }
 },
 "nbformat": 4,
 "nbformat_minor": 4
}
