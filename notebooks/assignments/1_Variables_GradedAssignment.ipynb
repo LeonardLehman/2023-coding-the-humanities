{
  "cells": [
    {
      "cell_type": "markdown",
      "metadata": {
        "id": "X8NI2UYxmAxm"
      },
      "source": [
        "# Variables: Graded assignment\n",
        "\n",
        "This notebook contains the first graded collaborative assignment of the 2023 Coding the Humanities course, and it is based on the [1. Variables](1_Variables.ipynb) course material."
      ]
    },
    {
      "cell_type": "markdown",
      "metadata": {
        "id": "tDox7v6Zydoa"
      },
      "source": [
        "This is a collaborative assignment. In the text cell below, please include all the names of your group members.\n",
        "\n",
        "Below that, answer the question using a mix of code cells and text cells in a way that would make your answers understandable to outsiders. To explain your code, you can use commenting (#) and/or text cells, similar to what you see in the course materials. Not all answers require code, some are text questions.\n",
        "\n",
        "If you used code or a solution from the internet (such as StackOverflow) or another external resource, please make reference to it (in any format). Unattributed copied code will be considered plagiarism and therefore fraud."
      ]
    },
    {
      "attachments": {},
      "cell_type": "markdown",
      "metadata": {
        "id": "yrkCK50pyv99"
      },
      "source": [
        "**Authors of this answer:** Leonards Leimanis"
      ]
    },
    {
      "cell_type": "markdown",
      "metadata": {
        "id": "vHoYErhC0H6l"
      },
      "source": [
        "## Assignment\n",
        "\n",
        "Below, you will find a list that contains an exerpt of text from Willard V.A. Quine's book \"Word and Object\" (1960). Each word is an item in the list. However, it is a bit messy as it was scanned from paper.\n",
        "\n",
        "1. Firstly, you see there is a page number in the sentence, but you think it was scanned incorrectly. You think it should be 744 instead of 244, and you try to correct this. Why does the solution below not work?"
      ]
    },
    {
      "cell_type": "code",
      "execution_count": null,
      "metadata": {
        "id": "y3af0USf0K2A"
      },
      "outputs": [],
      "source": [
        "rabbit_sentence = [\"Two\", \"pointings\", \"may\", \"be\", \"pointings\", \"to\", \"a\", \"numerically\", \"identical\", \"rabbit\", \",\", \"to\", \"numerically\", \"distinct\", \"rabbit\", \"parts\", \",\"\n",
        "                  , \"and\", \"to\", \"numerically\", \"distinct\", \"rabbit\", \"stages\", \";\", \"the\", \"inscrutability\", \"lies\", \"not\", \"in\", \"resemblance\", \",\", \"but\", \"in\", \"the\", \"anatomy\", \".\"\n",
        "                  , \"Strawson\", \"is\", \"making\", \"this\", \"point\", \"when\", \"he\", \"writes\", \"that\", '\"', \"feature\", \"-\", \"placing\", \"sentences\", \"do\", \"not\", \"introduce\", \"particulars\", \n",
        "                   \"into\", \"our\", \"discourse\", '\"', \"(\", '\"', \"Particular\", \"and\", \"general\", \",\", \"p.\", \"244\", \")\", \".\"]\n",
        "\n",
        "number_index = rabbit_sentence.index(\"244\")\n",
        "rabbit_sentence[number_index] += 500"
      ]
    },
    {
      "cell_type": "markdown",
      "metadata": {
        "id": "GkH7_70Y73uK"
      },
      "source": [
        "Your answer here (text cell):"
      ]
    },
    {
      "cell_type": "markdown",
      "metadata": {
        "id": "92yT2r6OMnE0"
      },
      "source": [
        "This does not work because \"244\" is a string not an integer so calculation cannot be done to it"
      ]
    },
    {
      "cell_type": "markdown",
      "metadata": {
        "id": "O6vh1FE376VY"
      },
      "source": [
        "Provide another solution that does let you add 500 to the number in the list. You can refer to the variables from the code block above without having to re-write them."
      ]
    },
    {
      "cell_type": "code",
      "execution_count": 3,
      "metadata": {
        "colab": {
          "base_uri": "https://localhost:8080/"
        },
        "id": "ryt58O7F68Fk",
        "outputId": "999d2bde-5abc-4a5c-bb14-547ea01325da"
      },
      "outputs": [
        {
          "name": "stdout",
          "output_type": "stream",
          "text": [
            "The index of the page number is 65\n",
            "The number before addition is 244\n",
            "The number after addition is 744\n",
            "['Two', 'pointings', 'may', 'be', 'pointings', 'to', 'a', 'numerically', 'identical', 'rabbit', ',', 'to', 'numerically', 'distinct', 'rabbit', 'parts', ',', 'and', 'to', 'numerically', 'distinct', 'rabbit', 'stages', ';', 'the', 'inscrutability', 'lies', 'not', 'in', 'resemblance', ',', 'but', 'in', 'the', 'anatomy', '.', 'Strawson', 'is', 'making', 'this', 'point', 'when', 'he', 'writes', 'that', '\"', 'feature', '-', 'placing', 'sentences', 'do', 'not', 'introduce', 'particulars', 'into', 'our', 'discourse', '\"', '(', '\"', 'Particular', 'and', 'general', ',', 'p.', '744', ')', '.']\n"
          ]
        }
      ],
      "source": [
        "rabbit_sentence = [\"Two\", \"pointings\", \"may\", \"be\", \"pointings\", \"to\", \"a\", \"numerically\", \"identical\", \"rabbit\", \",\", \"to\", \"numerically\", \"distinct\", \"rabbit\", \"parts\", \",\"\n",
        "                  , \"and\", \"to\", \"numerically\", \"distinct\", \"rabbit\", \"stages\", \";\", \"the\", \"inscrutability\", \"lies\", \"not\", \"in\", \"resemblance\", \",\", \"but\", \"in\", \"the\", \"anatomy\", \".\"\n",
        "                  , \"Strawson\", \"is\", \"making\", \"this\", \"point\", \"when\", \"he\", \"writes\", \"that\", '\"', \"feature\", \"-\", \"placing\", \"sentences\", \"do\", \"not\", \"introduce\", \"particulars\", \n",
        "                   \"into\", \"our\", \"discourse\", '\"', \"(\", '\"', \"Particular\", \"and\", \"general\", \",\", \"p.\", \"244\", \")\", \".\"]\n",
        "\n",
        "number_index = rabbit_sentence.index(\"244\")\n",
        "\n",
        "print (\"The index of the page number is\", number_index)\n",
        "print (\"The number before addition is\", rabbit_sentence[number_index])\n",
        "\n",
        "new_number = int(rabbit_sentence[number_index]) + 500\n",
        "\n",
        "rabbit_sentence[number_index] = str(new_number)\n",
        "\n",
        "print (\"The number after addition is\", rabbit_sentence[number_index])\n",
        "\n",
        "print (rabbit_sentence)\n",
        "\n",
        "#rabbit_sentence[number_index] += 500"
      ]
    },
    {
      "cell_type": "markdown",
      "metadata": {
        "id": "m1G-l82e8MQz"
      },
      "source": [
        "2. Next, you want to check whether the word \"particular\" occurs in this list. How would you check that with Python code? Do you agree with the answer?"
      ]
    },
    {
      "cell_type": "code",
      "execution_count": 71,
      "metadata": {
        "colab": {
          "base_uri": "https://localhost:8080/"
        },
        "id": "nF0Hk4aF9pJ5",
        "outputId": "413ec1ea-29ad-4215-db93-af346b60a880"
      },
      "outputs": [
        {
          "name": "stdout",
          "output_type": "stream",
          "text": [
            "In the list\n"
          ]
        }
      ],
      "source": [
        "rabbit_sentence = [\"Two\", \"pointings\", \"may\", \"be\", \"pointings\", \"to\", \"a\", \"numerically\", \"identical\", \"rabbit\", \",\", \"to\", \"numerically\", \"distinct\", \"rabbit\", \"parts\", \",\"\n",
        "                  , \"and\", \"to\", \"numerically\", \"distinct\", \"rabbit\", \"stages\", \";\", \"the\", \"inscrutability\", \"lies\", \"not\", \"in\", \"resemblance\", \",\", \"but\", \"in\", \"the\", \"anatomy\", \".\"\n",
        "                  , \"Strawson\", \"is\", \"making\", \"this\", \"point\", \"when\", \"he\", \"writes\", \"that\", '\"', \"feature\", \"-\", \"placing\", \"sentences\", \"do\", \"not\", \"introduce\", \"particulars\", \n",
        "                   \"into\", \"our\", \"discourse\", '\"', \"(\", '\"', \"Particular\", \"and\", \"general\", \",\", \"p.\", \"244\", \")\", \".\"]\n",
        "\n",
        "def all_lower(rabbit_sentence):\n",
        "    return [x.lower() for x in rabbit_sentence]\n",
        "\n",
        "word = ('particular')\n",
        "\n",
        "if word in all_lower(rabbit_sentence):\n",
        "  print(\"In the list\")\n",
        "else:\n",
        "  print(\"not in the list\")\n",
        "\n",
        "#First make a function that converts all of the function to lower case and then check with an if statement for the word"
      ]
    },
    {
      "cell_type": "markdown",
      "metadata": {
        "id": "kP_g4EDV9vfh"
      },
      "source": [
        "3. Now you want to know how often the word rabbit is actually used in this sentence. Check it with Python code."
      ]
    },
    {
      "cell_type": "code",
      "execution_count": 80,
      "metadata": {
        "colab": {
          "base_uri": "https://localhost:8080/"
        },
        "id": "B8uJbDKu945S",
        "outputId": "fcb6504a-3afb-435a-955b-b1cad7b216e2"
      },
      "outputs": [
        {
          "name": "stdout",
          "output_type": "stream",
          "text": [
            "3\n"
          ]
        }
      ],
      "source": [
        "rabbit_sentence = [\"Two\", \"pointings\", \"may\", \"be\", \"pointings\", \"to\", \"a\", \"numerically\", \"identical\", \"rabbit\", \",\", \"to\", \"numerically\", \"distinct\", \"rabbit\", \"parts\", \",\"\n",
        "                  , \"and\", \"to\", \"numerically\", \"distinct\", \"rabbit\", \"stages\", \";\", \"the\", \"inscrutability\", \"lies\", \"not\", \"in\", \"resemblance\", \",\", \"but\", \"in\", \"the\", \"anatomy\", \".\"\n",
        "                  , \"Strawson\", \"is\", \"making\", \"this\", \"point\", \"when\", \"he\", \"writes\", \"that\", '\"', \"feature\", \"-\", \"placing\", \"sentences\", \"do\", \"not\", \"introduce\", \"particulars\", \n",
        "                   \"into\", \"our\", \"discourse\", '\"', \"(\", '\"', \"Particular\", \"and\", \"general\", \",\", \"p.\", \"244\", \")\", \".\"]\n",
        "\n",
        "def all_lower(rabbit_sentence):\n",
        "    return [x.lower() for x in rabbit_sentence]\n",
        "\n",
        "counting = all_lower(rabbit_sentence).count(\"rabbit\")\n",
        "\n",
        "print(counting)\n"
      ]
    },
    {
      "cell_type": "markdown",
      "metadata": {
        "id": "uV6PvNfD8rCP"
      },
      "source": [
        "4. The list actually contains two sentences, not one. Can you make a new variable containing only the first sentence from the rabbit_sentence variable above? Try to write a solution that does not include any specific number."
      ]
    },
    {
      "cell_type": "code",
      "execution_count": 84,
      "metadata": {
        "colab": {
          "base_uri": "https://localhost:8080/"
        },
        "id": "ancg7DZ_9Hs4",
        "outputId": "b00dc271-f743-4abe-8512-b7ec1bcec2b4"
      },
      "outputs": [
        {
          "name": "stdout",
          "output_type": "stream",
          "text": [
            "['Two', 'pointings', 'may', 'be', 'pointings', 'to', 'a', 'numerically', 'identical', 'rabbit', ',', 'to', 'numerically', 'distinct', 'rabbit', 'parts', ',', 'and', 'to', 'numerically', 'distinct', 'rabbit', 'stages', ';', 'the', 'inscrutability', 'lies', 'not', 'in', 'resemblance', ',', 'but', 'in', 'the', 'anatomy', '.']\n"
          ]
        }
      ],
      "source": [
        "rabbit_sentence = [\"Two\", \"pointings\", \"may\", \"be\", \"pointings\", \"to\", \"a\", \"numerically\", \"identical\", \"rabbit\", \",\", \"to\", \"numerically\", \"distinct\", \"rabbit\", \"parts\", \",\"\n",
        "                  , \"and\", \"to\", \"numerically\", \"distinct\", \"rabbit\", \"stages\", \";\", \"the\", \"inscrutability\", \"lies\", \"not\", \"in\", \"resemblance\", \",\", \"but\", \"in\", \"the\", \"anatomy\", \".\"\n",
        "                  , \"Strawson\", \"is\", \"making\", \"this\", \"point\", \"when\", \"he\", \"writes\", \"that\", '\"', \"feature\", \"-\", \"placing\", \"sentences\", \"do\", \"not\", \"introduce\", \"particulars\", \n",
        "                   \"into\", \"our\", \"discourse\", '\"', \"(\", '\"', \"Particular\", \"and\", \"general\", \",\", \"p.\", \"244\", \")\", \".\"]\n",
        "\n",
        "first_rabbit_sentence = rabbit_sentence[:(rabbit_sentence.index(\".\")+1)]                   \n",
        "\n",
        "print(first_rabbit_sentence)\n",
        "\n",
        "#first_rabbit_sentence = "
      ]
    },
    {
      "cell_type": "markdown",
      "metadata": {
        "id": "7UP55vJF-GBi"
      },
      "source": [
        "5. Lastly, a tricky one. You want to remove the punctuation from the rabbit_sentence. So, you want to remove ',' and ';' and '.' and '(' and ')' and '\"' and '-' from the list. However, you also want to preserve the original, and have both the one with punctuation and the one without. Can you do this? Print both lists, *as well as their length* to show that they are different."
      ]
    },
    {
      "cell_type": "code",
      "execution_count": 11,
      "metadata": {
        "colab": {
          "base_uri": "https://localhost:8080/"
        },
        "id": "Lx1X1Tr__Z5W",
        "outputId": "20a03825-0eed-46ea-f2d1-b8121483989e"
      },
      "outputs": [
        {
          "name": "stdout",
          "output_type": "stream",
          "text": [
            "The list that will be removed is {'', 'and', '-', '.', ';', ',', '\"'}\n",
            "\n",
            "Before the slice the lenght is 68\n",
            "['Two', 'pointings', 'may', 'be', 'pointings', 'to', 'a', 'numerically', 'identical', 'rabbit', ',', 'to', 'numerically', 'distinct', 'rabbit', 'parts', ',', 'and', 'to', 'numerically', 'distinct', 'rabbit', 'stages', ';', 'the', 'inscrutability', 'lies', 'not', 'in', 'resemblance', ',', 'but', 'in', 'the', 'anatomy', '.', 'Strawson', 'is', 'making', 'this', 'point', 'when', 'he', 'writes', 'that', '\"', 'feature', '-', 'placing', 'sentences', 'do', 'not', 'introduce', 'particulars', 'into', 'our', 'discourse', '\"', '(', '\"', 'Particular', 'and', 'general', ',', 'p.', '244', ')', '.']\n",
            "\n",
            "After the slice the lenght is 55\n",
            "['Two', 'pointings', 'may', 'be', 'pointings', 'to', 'a', 'numerically', 'identical', 'rabbit', 'to', 'numerically', 'distinct', 'rabbit', 'parts', 'to', 'numerically', 'distinct', 'rabbit', 'stages', 'the', 'inscrutability', 'lies', 'not', 'in', 'resemblance', 'but', 'in', 'the', 'anatomy', 'Strawson', 'is', 'making', 'this', 'point', 'when', 'he', 'writes', 'that', 'feature', 'placing', 'sentences', 'do', 'not', 'introduce', 'particulars', 'into', 'our', 'discourse', '(', 'Particular', 'general', 'p.', '244', ')']\n"
          ]
        }
      ],
      "source": [
        "rabbit_sentence = [\"Two\", \"pointings\", \"may\", \"be\", \"pointings\", \"to\", \"a\", \"numerically\", \"identical\", \"rabbit\", \",\", \"to\", \"numerically\", \"distinct\", \"rabbit\", \"parts\", \",\"\n",
        "                  , \"and\", \"to\", \"numerically\", \"distinct\", \"rabbit\", \"stages\", \";\", \"the\", \"inscrutability\", \"lies\", \"not\", \"in\", \"resemblance\", \",\", \"but\", \"in\", \"the\", \"anatomy\", \".\"\n",
        "                  , \"Strawson\", \"is\", \"making\", \"this\", \"point\", \"when\", \"he\", \"writes\", \"that\", '\"', \"feature\", \"-\", \"placing\", \"sentences\", \"do\", \"not\", \"introduce\", \"particulars\", \n",
        "                   \"into\", \"our\", \"discourse\", '\"', \"(\", '\"', \"Particular\", \"and\", \"general\", \",\", \"p.\", \"244\", \")\", \".\"]\n",
        "\n",
        "list_toremove = set([\",\", \";\", \".\", \"and\", \"\", \"-\", \"\\\"\"])\n",
        "\n",
        "print(\"The list that will be removed is\", list_toremove)\n",
        "\n",
        "#[rabbit_sentence for rabbit_sentence in clean_rabbit_sentence if rabbit_sentence not in list_toremove]\n",
        "#clean_rabbit_sentence = list(set(rabbit_sentence) - set(list_toremove))\n",
        "clean_rabbit_sentence = [a for a in rabbit_sentence if a not in list_toremove]\n",
        "\n",
        "lenght_rabbit = len(rabbit_sentence)\n",
        "lenght_rabbit_clean = len(clean_rabbit_sentence)\n",
        "\n",
        "print()\n",
        "print(\"Before the slice the lenght is\", lenght_rabbit)\n",
        "print(rabbit_sentence)\n",
        "print()\n",
        "\n",
        "print(\"After the slice the lenght is\", lenght_rabbit_clean)\n",
        "print(clean_rabbit_sentence)\n",
        "\n",
        "\n",
        "#print(clean_rabbit_sentence)"
      ]
    },
    {
      "cell_type": "code",
      "execution_count": 95,
      "metadata": {
        "id": "ejyUtNLCcT49"
      },
      "outputs": [],
      "source": []
    }
  ],
  "metadata": {
    "colab": {
      "provenance": []
    },
    "kernelspec": {
      "display_name": "Python 3",
      "language": "python",
      "name": "python3"
    },
    "language_info": {
      "codemirror_mode": {
        "name": "ipython",
        "version": 3
      },
      "file_extension": ".py",
      "mimetype": "text/x-python",
      "name": "python",
      "nbconvert_exporter": "python",
      "pygments_lexer": "ipython3",
      "version": "3.10.2"
    },
    "vscode": {
      "interpreter": {
        "hash": "9be826744cc5714b462ad0c8de88bfa6f016a48973c6317b9546595d1685cabb"
      }
    }
  },
  "nbformat": 4,
  "nbformat_minor": 0
}
