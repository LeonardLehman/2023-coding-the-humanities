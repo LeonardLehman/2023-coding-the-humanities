{
  "cells": [
    {
      "cell_type": "markdown",
      "metadata": {
        "id": "X8NI2UYxmAxm"
      },
      "source": [
        "# Variables: Graded assignment\n",
        "\n",
        "This notebook contains the first graded collaborative assignment of the 2023 Coding the Humanities course, and it is based on the [1. Variables](1_Variables.ipynb) course material."
      ]
    },
    {
      "cell_type": "markdown",
      "metadata": {
        "id": "tDox7v6Zydoa"
      },
      "source": [
        "This is a collaborative assignment. In the text cell below, please include all the names of your group members.\n",
        "\n",
        "Below that, answer the question using a mix of code cells and text cells in a way that would make your answers understandable to outsiders. To explain your code, you can use commenting (#) and/or text cells, similar to what you see in the course materials. Not all answers require code, some are text questions.\n",
        "\n",
        "If you used code or a solution from the internet (such as StackOverflow) or another external resource, please make reference to it (in any format). Unattributed copied code will be considered plagiarism and therefore fraud."
      ]
    },
    {
      "cell_type": "markdown",
      "metadata": {
        "id": "yrkCK50pyv99"
      },
      "source": [
        "**Authors of this answer:**"
      ]
    },
    {
      "cell_type": "markdown",
      "metadata": {
        "id": "vHoYErhC0H6l"
      },
      "source": [
        "## Assignment\n",
        "\n",
        "Below, you will find a list that contains an exerpt of text from Willard V.A. Quine's book \"Word and Object\" (1960). Each word is an item in the list. However, it is a bit messy as it was scanned from paper.\n",
        "\n",
        "1. Firstly, you see there is a page number in the sentence, but you think it was scanned incorrectly. You think it should be 744 instead of 244, and you try to correct this. Why does the solution below not work?"
      ]
    },
    {
      "cell_type": "code",
      "execution_count": null,
      "metadata": {
        "id": "y3af0USf0K2A"
      },
      "outputs": [],
      "source": [
        "rabbit_sentence = [\"Two\", \"pointings\", \"may\", \"be\", \"pointings\", \"to\", \"a\", \"numerically\", \"identical\", \"rabbit\", \",\", \"to\", \"numerically\", \"distinct\", \"rabbit\", \"parts\", \",\"\n",
        "                  , \"and\", \"to\", \"numerically\", \"distinct\", \"rabbit\", \"stages\", \";\", \"the\", \"inscrutability\", \"lies\", \"not\", \"in\", \"resemblance\", \",\", \"but\", \"in\", \"the\", \"anatomy\", \".\"\n",
        "                  , \"Strawson\", \"is\", \"making\", \"this\", \"point\", \"when\", \"he\", \"writes\", \"that\", '\"', \"feature\", \"-\", \"placing\", \"sentences\", \"do\", \"not\", \"introduce\", \"particulars\", \n",
        "                   \"into\", \"our\", \"discourse\", '\"', \"(\", '\"', \"Particular\", \"and\", \"general\", \",\", \"p.\", \"244\", \")\", \".\"]\n",
        "\n",
        "number_index = rabbit_sentence.index(\"244\")\n",
        "rabbit_sentence[number_index] += 500"
      ]
    },
    {
      "cell_type": "markdown",
      "metadata": {
        "id": "GkH7_70Y73uK"
      },
      "source": [
        "Your answer here (text cell):"
      ]
    },
    {
      "cell_type": "markdown",
      "metadata": {
        "id": "92yT2r6OMnE0"
      },
      "source": [
        "This does not work because \"244\" is a string not an integer so calculation cannot be done to it"
      ]
    },
    {
      "cell_type": "markdown",
      "metadata": {
        "id": "O6vh1FE376VY"
      },
      "source": [
        "Provide another solution that does let you add 500 to the number in the list. You can refer to the variables from the code block above without having to re-write them."
      ]
    },
    {
      "cell_type": "code",
      "execution_count": 2,
      "metadata": {
        "id": "ryt58O7F68Fk",
        "outputId": "fa2f37cb-600f-4aef-a2c0-5ffe2a2c6022",
        "colab": {
          "base_uri": "https://localhost:8080/"
        }
      },
      "outputs": [
        {
          "output_type": "stream",
          "name": "stdout",
          "text": [
            "The index of the page number is 65\n",
            "The number before addition is 244\n",
            "The number after addition is 744\n"
          ]
        },
        {
          "output_type": "execute_result",
          "data": {
            "text/plain": [
              "['Two',\n",
              " 'pointings',\n",
              " 'may',\n",
              " 'be',\n",
              " 'pointings',\n",
              " 'to',\n",
              " 'a',\n",
              " 'numerically',\n",
              " 'identical',\n",
              " 'rabbit',\n",
              " ',',\n",
              " 'to',\n",
              " 'numerically',\n",
              " 'distinct',\n",
              " 'rabbit',\n",
              " 'parts',\n",
              " ',',\n",
              " 'and',\n",
              " 'to',\n",
              " 'numerically',\n",
              " 'distinct',\n",
              " 'rabbit',\n",
              " 'stages',\n",
              " ';',\n",
              " 'the',\n",
              " 'inscrutability',\n",
              " 'lies',\n",
              " 'not',\n",
              " 'in',\n",
              " 'resemblance',\n",
              " ',',\n",
              " 'but',\n",
              " 'in',\n",
              " 'the',\n",
              " 'anatomy',\n",
              " '.',\n",
              " 'Strawson',\n",
              " 'is',\n",
              " 'making',\n",
              " 'this',\n",
              " 'point',\n",
              " 'when',\n",
              " 'he',\n",
              " 'writes',\n",
              " 'that',\n",
              " '\"',\n",
              " 'feature',\n",
              " '-',\n",
              " 'placing',\n",
              " 'sentences',\n",
              " 'do',\n",
              " 'not',\n",
              " 'introduce',\n",
              " 'particulars',\n",
              " 'into',\n",
              " 'our',\n",
              " 'discourse',\n",
              " '\"',\n",
              " '(',\n",
              " '\"',\n",
              " 'Particular',\n",
              " 'and',\n",
              " 'general',\n",
              " ',',\n",
              " 'p.',\n",
              " '744',\n",
              " ')',\n",
              " '.']"
            ]
          },
          "metadata": {},
          "execution_count": 2
        }
      ],
      "source": [
        "rabbit_sentence = [\"Two\", \"pointings\", \"may\", \"be\", \"pointings\", \"to\", \"a\", \"numerically\", \"identical\", \"rabbit\", \",\", \"to\", \"numerically\", \"distinct\", \"rabbit\", \"parts\", \",\"\n",
        "                  , \"and\", \"to\", \"numerically\", \"distinct\", \"rabbit\", \"stages\", \";\", \"the\", \"inscrutability\", \"lies\", \"not\", \"in\", \"resemblance\", \",\", \"but\", \"in\", \"the\", \"anatomy\", \".\"\n",
        "                  , \"Strawson\", \"is\", \"making\", \"this\", \"point\", \"when\", \"he\", \"writes\", \"that\", '\"', \"feature\", \"-\", \"placing\", \"sentences\", \"do\", \"not\", \"introduce\", \"particulars\", \n",
        "                   \"into\", \"our\", \"discourse\", '\"', \"(\", '\"', \"Particular\", \"and\", \"general\", \",\", \"p.\", \"244\", \")\", \".\"]\n",
        "\n",
        "number_index = rabbit_sentence.index(\"244\")\n",
        "\n",
        "print (\"The index of the page number is\", number_index)\n",
        "print (\"The number before addition is\", rabbit_sentence[number_index])\n",
        "\n",
        "new_number = int(rabbit_sentence[number_index]) + 500\n",
        "\n",
        "rabbit_sentence[number_index] = str(new_number)\n",
        "\n",
        "print (\"The number after addition is\", rabbit_sentence[number_index])\n",
        "\n",
        "rabbit_sentence\n",
        "\n",
        "#rabbit_sentence[number_index] += 500"
      ]
    },
    {
      "cell_type": "markdown",
      "metadata": {
        "id": "m1G-l82e8MQz"
      },
      "source": [
        "2. Next, you want to check whether the word \"particular\" occurs in this list. How would you check that with Python code? Do you agree with the answer?"
      ]
    },
    {
      "cell_type": "code",
      "execution_count": null,
      "metadata": {
        "id": "nF0Hk4aF9pJ5"
      },
      "outputs": [],
      "source": [
        "rabbit_sentence = [\"Two\", \"pointings\", \"may\", \"be\", \"pointings\", \"to\", \"a\", \"numerically\", \"identical\", \"rabbit\", \",\", \"to\", \"numerically\", \"distinct\", \"rabbit\", \"parts\", \",\"\n",
        "                  , \"and\", \"to\", \"numerically\", \"distinct\", \"rabbit\", \"stages\", \";\", \"the\", \"inscrutability\", \"lies\", \"not\", \"in\", \"resemblance\", \",\", \"but\", \"in\", \"the\", \"anatomy\", \".\"\n",
        "                  , \"Strawson\", \"is\", \"making\", \"this\", \"point\", \"when\", \"he\", \"writes\", \"that\", '\"', \"feature\", \"-\", \"placing\", \"sentences\", \"do\", \"not\", \"introduce\", \"particulars\", \n",
        "                   \"into\", \"our\", \"discourse\", '\"', \"(\", '\"', \"Particular\", \"and\", \"general\", \",\", \"p.\", \"244\", \")\", \".\"]\n",
        "\n"
      ]
    },
    {
      "cell_type": "markdown",
      "metadata": {
        "id": "kP_g4EDV9vfh"
      },
      "source": [
        "3. Now you want to know how often the word rabbit is actually used in this sentence. Check it with Python code."
      ]
    },
    {
      "cell_type": "code",
      "execution_count": null,
      "metadata": {
        "id": "B8uJbDKu945S"
      },
      "outputs": [],
      "source": [
        "# your code here"
      ]
    },
    {
      "cell_type": "markdown",
      "metadata": {
        "id": "uV6PvNfD8rCP"
      },
      "source": [
        "4. The list actually contains two sentences, not one. Can you make a new variable containing only the first sentence from the rabbit_sentence variable above? Try to write a solution that does not include any specific number."
      ]
    },
    {
      "cell_type": "code",
      "execution_count": null,
      "metadata": {
        "id": "ancg7DZ_9Hs4"
      },
      "outputs": [],
      "source": [
        "#your code here\n",
        "#first_rabbit_sentence = "
      ]
    },
    {
      "cell_type": "markdown",
      "metadata": {
        "id": "7UP55vJF-GBi"
      },
      "source": [
        "5. Lastly, a tricky one. You want to remove the punctuation from the rabbit_sentence. So, you want to remove ',' and ';' and '.' and '(' and ')' and '\"' and '-' from the list. However, you also want to preserve the original, and have both the one with punctuation and the one without. Can you do this? Print both lists, *as well as their length* to show that they are different."
      ]
    },
    {
      "cell_type": "code",
      "execution_count": null,
      "metadata": {
        "id": "Lx1X1Tr__Z5W"
      },
      "outputs": [],
      "source": [
        "#your code here\n",
        "\n",
        "print(rabbit_sentence)\n",
        "#print(clean_rabbit_sentence)"
      ]
    }
  ],
  "metadata": {
    "colab": {
      "provenance": []
    },
    "kernelspec": {
      "display_name": "Python 3",
      "language": "python",
      "name": "python3"
    },
    "language_info": {
      "codemirror_mode": {
        "name": "ipython",
        "version": 3
      },
      "file_extension": ".py",
      "mimetype": "text/x-python",
      "name": "python",
      "nbconvert_exporter": "python",
      "pygments_lexer": "ipython3",
      "version": "3.10.2"
    },
    "vscode": {
      "interpreter": {
        "hash": "9be826744cc5714b462ad0c8de88bfa6f016a48973c6317b9546595d1685cabb"
      }
    }
  },
  "nbformat": 4,
  "nbformat_minor": 0
}