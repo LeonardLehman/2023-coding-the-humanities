{
 "cells": [
  {
   "cell_type": "code",
   "execution_count": 3,
   "metadata": {},
   "outputs": [
    {
     "name": "stdout",
     "output_type": "stream",
     "text": [
      "[{'day': '-2', 'timestamp': '0', 'product': 'BANANAS', 'bid_price_1': '4997', 'bid_volume_1': '26', 'bid_price_2': '', 'bid_volume_2': '', 'bid_price_3': '', 'bid_volume_3': '', 'ask_price_1': '5003', 'ask_volume_1': '26', 'ask_price_2': '', 'ask_volume_2': '', 'ask_price_3': '', 'ask_volume_3': '', 'mid_price': '5000.0', 'profit_and_loss': '0.0'}, {'day': '-2', 'timestamp': '0', 'product': 'PEARLS', 'bid_price_1': '9996', 'bid_volume_1': '1', 'bid_price_2': '9995', 'bid_volume_2': '25', 'bid_price_3': '', 'bid_volume_3': '', 'ask_price_1': '10004', 'ask_volume_1': '1', 'ask_price_2': '10005', 'ask_volume_2': '25', 'ask_price_3': '', 'ask_volume_3': '', 'mid_price': '10000.0', 'profit_and_loss': '0.0'}, {'day': '-2', 'timestamp': '100', 'product': 'BANANAS', 'bid_price_1': '4997', 'bid_volume_1': '20', 'bid_price_2': '', 'bid_volume_2': '', 'bid_price_3': '', 'bid_volume_3': '', 'ask_price_1': '4998', 'ask_volume_1': '1', 'ask_price_2': '5004', 'ask_volume_2': '20', 'ask_price_3': '', 'ask_volume_3': '', 'mid_price': '4997.5', 'profit_and_loss': '2.86328125'}, {'day': '-2', 'timestamp': '100', 'product': 'PEARLS', 'bid_price_1': '10000', 'bid_volume_1': '5', 'bid_price_2': '9995', 'bid_volume_2': '20', 'bid_price_3': '', 'bid_volume_3': '', 'ask_price_1': '10005', 'ask_volume_1': '20', 'ask_price_2': '', 'ask_volume_2': '', 'ask_price_3': '', 'ask_volume_3': '', 'mid_price': '10002.5', 'profit_and_loss': '-8.0'}, {'day': '-2', 'timestamp': '200', 'product': 'PEARLS', 'bid_price_1': '9996', 'bid_volume_1': '1', 'bid_price_2': '9995', 'bid_volume_2': '30', 'bid_price_3': '', 'bid_volume_3': '', 'ask_price_1': '10004', 'ask_volume_1': '1', 'ask_price_2': '10005', 'ask_volume_2': '30', 'ask_price_3': '', 'ask_volume_3': '', 'mid_price': '10000.0', 'profit_and_loss': '-8.0'}, {'day': '-2', 'timestamp': '200', 'product': 'BANANAS', 'bid_price_1': '4997', 'bid_volume_1': '31', 'bid_price_2': '', 'bid_volume_2': '', 'bid_price_3': '', 'bid_volume_3': '', 'ask_price_1': '5004', 'ask_volume_1': '31', 'ask_price_2': '', 'ask_volume_2': '', 'ask_price_3': '', 'ask_volume_3': '', 'mid_price': '5000.5', 'profit_and_loss': '2.53662109375'}, {'day': '-2', 'timestamp': '300', 'product': 'PEARLS', 'bid_price_1': '9996', 'bid_volume_1': '1', 'bid_price_2': '9995', 'bid_volume_2': '26', 'bid_price_3': '', 'bid_volume_3': '', 'ask_price_1': '10004', 'ask_volume_1': '1', 'ask_price_2': '10005', 'ask_volume_2': '26', 'ask_price_3': '', 'ask_volume_3': '', 'mid_price': '10000.0', 'profit_and_loss': '-8.0'}, {'day': '-2', 'timestamp': '300', 'product': 'BANANAS', 'bid_price_1': '4997', 'bid_volume_1': '27', 'bid_price_2': '', 'bid_volume_2': '', 'bid_price_3': '', 'bid_volume_3': '', 'ask_price_1': '5004', 'ask_volume_1': '27', 'ask_price_2': '', 'ask_volume_2': '', 'ask_price_3': '', 'ask_volume_3': '', 'mid_price': '5000.5', 'profit_and_loss': '2.40576171875'}, {'day': '-2', 'timestamp': '400', 'product': 'PEARLS', 'bid_price_1': '9995', 'bid_volume_1': '20', 'bid_price_2': '', 'bid_volume_2': '', 'bid_price_3': '', 'bid_volume_3': '', 'ask_price_1': '9998', 'ask_volume_1': '3', 'ask_price_2': '10002', 'ask_volume_2': '9', 'ask_price_3': '10005', 'ask_volume_3': '20', 'mid_price': '9996.5', 'profit_and_loss': '-8.0'}, {'day': '-2', 'timestamp': '400', 'product': 'BANANAS', 'bid_price_1': '4997', 'bid_volume_1': '20', 'bid_price_2': '', 'bid_volume_2': '', 'bid_price_3': '', 'bid_volume_3': '', 'ask_price_1': '5002', 'ask_volume_1': '9', 'ask_price_2': '5004', 'ask_volume_2': '20', 'ask_price_3': '', 'ask_volume_3': '', 'mid_price': '4999.5', 'profit_and_loss': '2.92578125'}]\n"
     ]
    }
   ],
   "source": [
    "import csv\n",
    "\n",
    "# Define the CSV file path\n",
    "csv_file = 'C:\\\\Users\\\\leona\\\\Documents\\\\Coding the humanities\\\\Prosperity game\\\\island-data-bottle-round-1\\\\prices_round_1_day_-2.csv'\n",
    "\n",
    "# Create an empty list to store the data\n",
    "data = []\n",
    "\n",
    "# Open the CSV file and read the rows\n",
    "with open(csv_file, 'r') as file:\n",
    "    reader = csv.reader(file, delimiter=';')\n",
    "    next(reader)  # skip the header row\n",
    "    for row in reader:\n",
    "        # Split the columns and store the values in a dictionary\n",
    "        item = {\n",
    "            'day': row[0],\n",
    "            'timestamp': row[1],\n",
    "            'product': row[2],\n",
    "            'bid_price_1': row[3],\n",
    "            'bid_volume_1': row[4],\n",
    "            'bid_price_2': row[5],\n",
    "            'bid_volume_2': row[6],\n",
    "            'bid_price_3': row[7],\n",
    "            'bid_volume_3': row[8],\n",
    "            'ask_price_1': row[9],\n",
    "            'ask_volume_1': row[10],\n",
    "            'ask_price_2': row[11],\n",
    "            'ask_volume_2': row[12],\n",
    "            'ask_price_3': row[13],\n",
    "            'ask_volume_3': row[14],\n",
    "            'mid_price': row[15],\n",
    "            'profit_and_loss': row[16],\n",
    "        }\n",
    "        \n",
    "        # Append the dictionary to the data list\n",
    "        data.append(item)\n",
    "\n",
    "# Print the first 5 items in the data list\n",
    "print(data[:10])\n"
   ]
  },
  {
   "cell_type": "code",
   "execution_count": 5,
   "metadata": {},
   "outputs": [
    {
     "ename": "AttributeError",
     "evalue": "module 'datetime' has no attribute 'strptime'",
     "output_type": "error",
     "traceback": [
      "\u001b[1;31m---------------------------------------------------------------------------\u001b[0m",
      "\u001b[1;31mAttributeError\u001b[0m                            Traceback (most recent call last)",
      "Cell \u001b[1;32mIn[5], line 19\u001b[0m\n\u001b[0;32m     16\u001b[0m         mid_prices\u001b[39m.\u001b[39mappend(\u001b[39mfloat\u001b[39m(row[\u001b[39m'\u001b[39m\u001b[39mmid_price\u001b[39m\u001b[39m'\u001b[39m]))\n\u001b[0;32m     18\u001b[0m \u001b[39m# Convert the timestamps to a datetime format\u001b[39;00m\n\u001b[1;32m---> 19\u001b[0m timestamps \u001b[39m=\u001b[39m [datetime\u001b[39m.\u001b[39mstrptime(ts, \u001b[39m'\u001b[39m\u001b[39m%\u001b[39m\u001b[39mY-\u001b[39m\u001b[39m%\u001b[39m\u001b[39mm-\u001b[39m\u001b[39m%d\u001b[39;00m\u001b[39m \u001b[39m\u001b[39m%\u001b[39m\u001b[39mH:\u001b[39m\u001b[39m%\u001b[39m\u001b[39mM:\u001b[39m\u001b[39m%\u001b[39m\u001b[39mS.\u001b[39m\u001b[39m%f\u001b[39;00m\u001b[39m'\u001b[39m) \u001b[39mfor\u001b[39;00m ts \u001b[39min\u001b[39;00m timestamps]\n\u001b[0;32m     21\u001b[0m \u001b[39m# Plot the mid prices over time\u001b[39;00m\n\u001b[0;32m     22\u001b[0m fig, ax \u001b[39m=\u001b[39m plt\u001b[39m.\u001b[39msubplots()\n",
      "Cell \u001b[1;32mIn[5], line 19\u001b[0m, in \u001b[0;36m<listcomp>\u001b[1;34m(.0)\u001b[0m\n\u001b[0;32m     16\u001b[0m         mid_prices\u001b[39m.\u001b[39mappend(\u001b[39mfloat\u001b[39m(row[\u001b[39m'\u001b[39m\u001b[39mmid_price\u001b[39m\u001b[39m'\u001b[39m]))\n\u001b[0;32m     18\u001b[0m \u001b[39m# Convert the timestamps to a datetime format\u001b[39;00m\n\u001b[1;32m---> 19\u001b[0m timestamps \u001b[39m=\u001b[39m [datetime\u001b[39m.\u001b[39;49mstrptime(ts, \u001b[39m'\u001b[39m\u001b[39m%\u001b[39m\u001b[39mY-\u001b[39m\u001b[39m%\u001b[39m\u001b[39mm-\u001b[39m\u001b[39m%d\u001b[39;00m\u001b[39m \u001b[39m\u001b[39m%\u001b[39m\u001b[39mH:\u001b[39m\u001b[39m%\u001b[39m\u001b[39mM:\u001b[39m\u001b[39m%\u001b[39m\u001b[39mS.\u001b[39m\u001b[39m%f\u001b[39;00m\u001b[39m'\u001b[39m) \u001b[39mfor\u001b[39;00m ts \u001b[39min\u001b[39;00m timestamps]\n\u001b[0;32m     21\u001b[0m \u001b[39m# Plot the mid prices over time\u001b[39;00m\n\u001b[0;32m     22\u001b[0m fig, ax \u001b[39m=\u001b[39m plt\u001b[39m.\u001b[39msubplots()\n",
      "\u001b[1;31mAttributeError\u001b[0m: module 'datetime' has no attribute 'strptime'"
     ]
    }
   ],
   "source": [
    "import matplotlib.pyplot as plt\n",
    "import datetime\n",
    "\n",
    "# Define the input file path\n",
    "input_file = 'C:\\\\Users\\\\leona\\\\Documents\\\\Coding the humanities\\\\Prosperity game\\\\island-data-bottle-round-1\\\\prices_round_1_day_-2.csv'\n",
    "\n",
    "# Create empty lists to store the timestamps and mid prices\n",
    "timestamps = []\n",
    "mid_prices = []\n",
    "\n",
    "# Read the input CSV file and extract the timestamps and mid prices\n",
    "with open(input_file, 'r') as file:\n",
    "    reader = csv.DictReader(file, delimiter=';')\n",
    "    for row in reader:\n",
    "        timestamps.append(row['timestamp'])\n",
    "        mid_prices.append(float(row['mid_price']))\n",
    "\n",
    "# Convert the timestamps to a datetime format\n",
    "timestamps = [datetime.strptime(ts, '%Y-%m-%d %H:%M:%S.%f') for ts in timestamps]\n",
    "\n",
    "# Plot the mid prices over time\n",
    "fig, ax = plt.subplots()\n",
    "ax.plot(timestamps, mid_prices)\n",
    "\n",
    "# Set the title and axis labels\n",
    "ax.set_title('Mid Price over Time')\n",
    "ax.set_xlabel('Time')\n",
    "ax.set_ylabel('Mid Price')\n",
    "\n",
    "# Rotate the x-axis labels for better readability\n",
    "plt.xticks(rotation=45)\n",
    "\n",
    "# Show the plot\n",
    "plt.show()\n"
   ]
  }
 ],
 "metadata": {
  "kernelspec": {
   "display_name": "Python 3",
   "language": "python",
   "name": "python3"
  },
  "language_info": {
   "codemirror_mode": {
    "name": "ipython",
    "version": 3
   },
   "file_extension": ".py",
   "mimetype": "text/x-python",
   "name": "python",
   "nbconvert_exporter": "python",
   "pygments_lexer": "ipython3",
   "version": "3.10.2"
  },
  "orig_nbformat": 4
 },
 "nbformat": 4,
 "nbformat_minor": 2
}
