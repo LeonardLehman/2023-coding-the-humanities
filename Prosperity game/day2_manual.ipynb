{
 "cells": [
  {
   "cell_type": "code",
   "execution_count": 26,
   "metadata": {},
   "outputs": [
    {
     "name": "stdout",
     "output_type": "stream",
     "text": [
      "1\n",
      "Max Shells: 2167749.3225000002\n"
     ]
    }
   ],
   "source": [
    "exchange_rates = [\n",
    "    [1, 0.5, 1.45, 0.75],\n",
    "    [1.95, 1, 3.1, 1.49],\n",
    "    [0.67, 0.31, 1, 0.48],\n",
    "    [1.34, 0.64, 1.98, 1]\n",
    "]\n",
    "\n",
    "starting_currency = 3  # Shells is the fourth currency in the matrix\n",
    "starting_amount = 2000000\n",
    "\n",
    "# Initialize variables\n",
    "max_shells = [0] * 4\n",
    "max_shells[starting_currency] = starting_amount\n",
    "\n",
    "# Loop over all possible paths through the exchange rates matrix\n",
    "for _ in range(4):\n",
    "    for i in range(4):\n",
    "        for j in range(4):\n",
    "            rate = exchange_rates[i][j]\n",
    "            new_max_shells = max_shells[i] * rate\n",
    "            if new_max_shells > max_shells[j]:\n",
    "                max_shells[j] = new_max_shells\n",
    "\n",
    "print(rate)\n",
    "# Print the largest amount of Shells that can be obtained\n",
    "print(\"Max Shells:\", max_shells[3])\n"
   ]
  },
  {
   "cell_type": "code",
   "execution_count": 29,
   "metadata": {},
   "outputs": [
    {
     "name": "stdout",
     "output_type": "stream",
     "text": [
      "Max Shells: 2000000.0\n"
     ]
    },
    {
     "name": "stderr",
     "output_type": "stream",
     "text": [
      "c:\\Users\\leona\\AppData\\Local\\Programs\\Python\\Python310\\lib\\site-packages\\pulp\\pulp.py:1352: UserWarning: Spaces are not permitted in the name. Converted to '_'\n",
      "  warnings.warn(\"Spaces are not permitted in the name. Converted to '_'\")\n"
     ]
    }
   ],
   "source": [
    "from pulp import *\n",
    "\n",
    "exchange_rates = [    [1, 0.5, 1.45, 0.75],\n",
    "    [1.95, 1, 3.1, 1.49],\n",
    "    [0.67, 0.31, 1, 0.48],\n",
    "    [1.34, 0.64, 1.98, 1]\n",
    "]\n",
    "\n",
    "starting_currency = \"Shells\"\n",
    "ending_currency = \"Shells\"\n",
    "starting_amount = 2000000\n",
    "\n",
    "# Define the linear programming problem\n",
    "problem = LpProblem(\"Maximize Shells\", LpMaximize)\n",
    "\n",
    "# Define the decision variables\n",
    "currencies = [\"Pizza\", \"Wasabi\", \"Snowball\", \"Shells\"]\n",
    "variables = LpVariable.dicts(\"Amount\", currencies, 0)\n",
    "\n",
    "# Define the objective function\n",
    "problem += variables[ending_currency]\n",
    "\n",
    "# Define the constraints\n",
    "problem += variables[starting_currency] == starting_amount\n",
    "for i in range(4):\n",
    "    if currencies[i] != starting_currency and currencies[i] != ending_currency:\n",
    "        problem += variables[currencies[i]] == starting_amount * exchange_rates[i][currencies.index(starting_currency)] * exchange_rates[currencies.index(ending_currency)][i] * exchange_rates[i][currencies.index(ending_currency)] * exchange_rates[currencies.index(starting_currency)][i]\n",
    "\n",
    "# Solve the problem\n",
    "problem.solve()\n",
    "\n",
    "# Print the result\n",
    "print(\"Max Shells:\", value(problem.objective))\n"
   ]
  }
 ],
 "metadata": {
  "kernelspec": {
   "display_name": "Python 3",
   "language": "python",
   "name": "python3"
  },
  "language_info": {
   "codemirror_mode": {
    "name": "ipython",
    "version": 3
   },
   "file_extension": ".py",
   "mimetype": "text/x-python",
   "name": "python",
   "nbconvert_exporter": "python",
   "pygments_lexer": "ipython3",
   "version": "3.10.2"
  },
  "orig_nbformat": 4
 },
 "nbformat": 4,
 "nbformat_minor": 2
}
